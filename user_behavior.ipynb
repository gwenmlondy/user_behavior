{
 "cells": [
  {
   "cell_type": "markdown",
   "metadata": {},
   "source": [
    "# User behavior"
   ]
  },
  {
   "cell_type": "markdown",
   "metadata": {},
   "source": [
    " ## Contents <a id='back'></a>\n",
    " * [Introduction](#intro)\n",
    "     * [Project Puropse](#project_puropse)\n",
    "     * [Data Description](#data_description)\n",
    " * [Task decomposition](#task_decomposition)\n",
    "     * [Open the data file](#open_the_data_file)\n",
    "     * [Prepare the data for analysis](#prepare_the_data_for_analysis)\n",
    "     * [Study and check the data](#study_and_check_the_data)\n",
    "     * [Study the event funnel](#study_the_event_funnel)\n",
    "     * [Study the results of the experiment](#study_the_results_of_the_experiment)"
   ]
  },
  {
   "cell_type": "markdown",
   "metadata": {},
   "source": [
    "## Introduction <a id='data_review'></a>\n",
    "\n",
    "Investigation into user behavior for a company's app\n",
    "\n",
    "### Project Puropse\n",
    "\n",
    "Make a decition based on the test results of the user behavior analysis\n",
    "\n",
    "### Project Description\n",
    "\n",
    "You work at a startup that sells food products. You need to investigate user behavior for the company's app.\n",
    "First study the sales funnel. Find out how users reach the purchase stage. How many users actually make it to this stage? How many get stuck at previous stages? Which stages in particular?\n",
    "\n",
    "Then look at the results of an A/A/B test. (Read on for more information about A/A/B testing.) The designers would like to change the fonts for the entire app, but the managers are afraid the users might find the new design intimidating. They decide to make a decision based on the results of an A/A/B test. \n",
    "\n",
    "The users are split into three groups: two control groups get the old fonts and one test group gets the new ones. Find out which set of fonts produces better results.\n",
    "\n",
    "Creating two A groups has certain advantages. We can make it a principle that we will only be confident in the accuracy of our testing when the two control groups are similar. If there are significant differences between the A groups, this can help us uncover factors that may be distorting the results. Comparing control groups also tells us how much time and data we'll need when running further tests.\n",
    "\n",
    "You'll be using the same dataset for general analytics and for A/A/B analysis. In real projects, experiments are constantly being conducted. Analysts study the quality of an app using general data, without paying attention to whether users are participating in experiments.\n",
    "\n",
    "\n",
    "### Data Description\n",
    "\n",
    "- Each log entry is a user action or an event. \n",
    "    - `EventName` — event name\n",
    "    - `DeviceIDHash` — unique user identifier\n",
    "    - `EventTimestamp` — event time\n",
    "    - `ExpId` — experiment number: 246 and 247 are the control groups, 248 is the test group\n",
    "\n",
    "    \n",
    "## **Task decomposition:** <a id='data_review'></a>\n",
    "- Step 1. Open the data file and read the general information\n",
    "- Step 2. Prepare the data for analysis\n",
    "- Step 3. Study and check the data\n",
    "- Step 4. Study the event funnel\n",
    "- Step 5. Study the results of the experiment"
   ]
  },
  {
   "cell_type": "markdown",
   "metadata": {},
   "source": [
    "## Initialization"
   ]
  },
  {
   "cell_type": "code",
   "execution_count": 1,
   "metadata": {},
   "outputs": [],
   "source": [
    "# Loading all the libraries\n",
    "import pandas as pd\n",
    "import numpy as np\n",
    "import matplotlib.pyplot as plt\n",
    "import seaborn as sns\n",
    "from math import factorial\n",
    "from scipy import stats as st\n",
    "import scipy.stats as stats\n",
    "from scipy.stats import chi2_contingency\n",
    "from scipy.stats import mannwhitneyu\n",
    "from scipy.stats import ttest_ind"
   ]
  },
  {
   "cell_type": "markdown",
   "metadata": {},
   "source": [
    "## Step 1. Open the data file and read the general information"
   ]
  },
  {
   "cell_type": "code",
   "execution_count": 2,
   "metadata": {},
   "outputs": [],
   "source": [
    "# Load the data file into a DataFrame\n",
    "\n",
    "df = pd.read_csv('/datasets/logs_exp_us.csv', delimiter='\\t')"
   ]
  },
  {
   "cell_type": "code",
   "execution_count": 3,
   "metadata": {
    "scrolled": true
   },
   "outputs": [
    {
     "data": {
      "text/html": [
       "<div>\n",
       "<style scoped>\n",
       "    .dataframe tbody tr th:only-of-type {\n",
       "        vertical-align: middle;\n",
       "    }\n",
       "\n",
       "    .dataframe tbody tr th {\n",
       "        vertical-align: top;\n",
       "    }\n",
       "\n",
       "    .dataframe thead th {\n",
       "        text-align: right;\n",
       "    }\n",
       "</style>\n",
       "<table border=\"1\" class=\"dataframe\">\n",
       "  <thead>\n",
       "    <tr style=\"text-align: right;\">\n",
       "      <th></th>\n",
       "      <th>EventName</th>\n",
       "      <th>DeviceIDHash</th>\n",
       "      <th>EventTimestamp</th>\n",
       "      <th>ExpId</th>\n",
       "    </tr>\n",
       "  </thead>\n",
       "  <tbody>\n",
       "    <tr>\n",
       "      <th>0</th>\n",
       "      <td>MainScreenAppear</td>\n",
       "      <td>4575588528974610257</td>\n",
       "      <td>1564029816</td>\n",
       "      <td>246</td>\n",
       "    </tr>\n",
       "    <tr>\n",
       "      <th>1</th>\n",
       "      <td>MainScreenAppear</td>\n",
       "      <td>7416695313311560658</td>\n",
       "      <td>1564053102</td>\n",
       "      <td>246</td>\n",
       "    </tr>\n",
       "    <tr>\n",
       "      <th>2</th>\n",
       "      <td>PaymentScreenSuccessful</td>\n",
       "      <td>3518123091307005509</td>\n",
       "      <td>1564054127</td>\n",
       "      <td>248</td>\n",
       "    </tr>\n",
       "    <tr>\n",
       "      <th>3</th>\n",
       "      <td>CartScreenAppear</td>\n",
       "      <td>3518123091307005509</td>\n",
       "      <td>1564054127</td>\n",
       "      <td>248</td>\n",
       "    </tr>\n",
       "    <tr>\n",
       "      <th>4</th>\n",
       "      <td>PaymentScreenSuccessful</td>\n",
       "      <td>6217807653094995999</td>\n",
       "      <td>1564055322</td>\n",
       "      <td>248</td>\n",
       "    </tr>\n",
       "    <tr>\n",
       "      <th>...</th>\n",
       "      <td>...</td>\n",
       "      <td>...</td>\n",
       "      <td>...</td>\n",
       "      <td>...</td>\n",
       "    </tr>\n",
       "    <tr>\n",
       "      <th>244121</th>\n",
       "      <td>MainScreenAppear</td>\n",
       "      <td>4599628364049201812</td>\n",
       "      <td>1565212345</td>\n",
       "      <td>247</td>\n",
       "    </tr>\n",
       "    <tr>\n",
       "      <th>244122</th>\n",
       "      <td>MainScreenAppear</td>\n",
       "      <td>5849806612437486590</td>\n",
       "      <td>1565212439</td>\n",
       "      <td>246</td>\n",
       "    </tr>\n",
       "    <tr>\n",
       "      <th>244123</th>\n",
       "      <td>MainScreenAppear</td>\n",
       "      <td>5746969938801999050</td>\n",
       "      <td>1565212483</td>\n",
       "      <td>246</td>\n",
       "    </tr>\n",
       "    <tr>\n",
       "      <th>244124</th>\n",
       "      <td>MainScreenAppear</td>\n",
       "      <td>5746969938801999050</td>\n",
       "      <td>1565212498</td>\n",
       "      <td>246</td>\n",
       "    </tr>\n",
       "    <tr>\n",
       "      <th>244125</th>\n",
       "      <td>OffersScreenAppear</td>\n",
       "      <td>5746969938801999050</td>\n",
       "      <td>1565212517</td>\n",
       "      <td>246</td>\n",
       "    </tr>\n",
       "  </tbody>\n",
       "</table>\n",
       "<p>244126 rows × 4 columns</p>\n",
       "</div>"
      ],
      "text/plain": [
       "                      EventName         DeviceIDHash  EventTimestamp  ExpId\n",
       "0              MainScreenAppear  4575588528974610257      1564029816    246\n",
       "1              MainScreenAppear  7416695313311560658      1564053102    246\n",
       "2       PaymentScreenSuccessful  3518123091307005509      1564054127    248\n",
       "3              CartScreenAppear  3518123091307005509      1564054127    248\n",
       "4       PaymentScreenSuccessful  6217807653094995999      1564055322    248\n",
       "...                         ...                  ...             ...    ...\n",
       "244121         MainScreenAppear  4599628364049201812      1565212345    247\n",
       "244122         MainScreenAppear  5849806612437486590      1565212439    246\n",
       "244123         MainScreenAppear  5746969938801999050      1565212483    246\n",
       "244124         MainScreenAppear  5746969938801999050      1565212498    246\n",
       "244125       OffersScreenAppear  5746969938801999050      1565212517    246\n",
       "\n",
       "[244126 rows x 4 columns]"
      ]
     },
     "execution_count": 3,
     "metadata": {},
     "output_type": "execute_result"
    }
   ],
   "source": [
    "df"
   ]
  },
  {
   "cell_type": "markdown",
   "metadata": {},
   "source": [
    "## Step 2. Prepare the data for analysis"
   ]
  },
  {
   "cell_type": "markdown",
   "metadata": {},
   "source": [
    "### Rename the columns in a way that's convenient for you"
   ]
  },
  {
   "cell_type": "code",
   "execution_count": 4,
   "metadata": {},
   "outputs": [
    {
     "name": "stdout",
     "output_type": "stream",
     "text": [
      "<class 'pandas.core.frame.DataFrame'>\n",
      "RangeIndex: 244126 entries, 0 to 244125\n",
      "Data columns (total 4 columns):\n",
      " #   Column          Non-Null Count   Dtype \n",
      "---  ------          --------------   ----- \n",
      " 0   EventName       244126 non-null  object\n",
      " 1   DeviceIDHash    244126 non-null  int64 \n",
      " 2   EventTimestamp  244126 non-null  int64 \n",
      " 3   ExpId           244126 non-null  int64 \n",
      "dtypes: int64(3), object(1)\n",
      "memory usage: 7.5+ MB\n"
     ]
    }
   ],
   "source": [
    "df.info()"
   ]
  },
  {
   "cell_type": "code",
   "execution_count": 5,
   "metadata": {},
   "outputs": [],
   "source": [
    "# Rename columns\n",
    "df = df.rename(columns={\n",
    "    'EventName': 'event_name',\n",
    "    'DeviceIDHash': 'device_id',\n",
    "    'EventTimestamp': 'event_time',\n",
    "    'ExpId': 'experiment_id'\n",
    "})\n"
   ]
  },
  {
   "cell_type": "code",
   "execution_count": 6,
   "metadata": {},
   "outputs": [
    {
     "data": {
      "text/html": [
       "<div>\n",
       "<style scoped>\n",
       "    .dataframe tbody tr th:only-of-type {\n",
       "        vertical-align: middle;\n",
       "    }\n",
       "\n",
       "    .dataframe tbody tr th {\n",
       "        vertical-align: top;\n",
       "    }\n",
       "\n",
       "    .dataframe thead th {\n",
       "        text-align: right;\n",
       "    }\n",
       "</style>\n",
       "<table border=\"1\" class=\"dataframe\">\n",
       "  <thead>\n",
       "    <tr style=\"text-align: right;\">\n",
       "      <th></th>\n",
       "      <th>event_name</th>\n",
       "      <th>device_id</th>\n",
       "      <th>event_time</th>\n",
       "      <th>experiment_id</th>\n",
       "    </tr>\n",
       "  </thead>\n",
       "  <tbody>\n",
       "    <tr>\n",
       "      <th>0</th>\n",
       "      <td>MainScreenAppear</td>\n",
       "      <td>4575588528974610257</td>\n",
       "      <td>1564029816</td>\n",
       "      <td>246</td>\n",
       "    </tr>\n",
       "    <tr>\n",
       "      <th>1</th>\n",
       "      <td>MainScreenAppear</td>\n",
       "      <td>7416695313311560658</td>\n",
       "      <td>1564053102</td>\n",
       "      <td>246</td>\n",
       "    </tr>\n",
       "    <tr>\n",
       "      <th>2</th>\n",
       "      <td>PaymentScreenSuccessful</td>\n",
       "      <td>3518123091307005509</td>\n",
       "      <td>1564054127</td>\n",
       "      <td>248</td>\n",
       "    </tr>\n",
       "    <tr>\n",
       "      <th>3</th>\n",
       "      <td>CartScreenAppear</td>\n",
       "      <td>3518123091307005509</td>\n",
       "      <td>1564054127</td>\n",
       "      <td>248</td>\n",
       "    </tr>\n",
       "    <tr>\n",
       "      <th>4</th>\n",
       "      <td>PaymentScreenSuccessful</td>\n",
       "      <td>6217807653094995999</td>\n",
       "      <td>1564055322</td>\n",
       "      <td>248</td>\n",
       "    </tr>\n",
       "    <tr>\n",
       "      <th>...</th>\n",
       "      <td>...</td>\n",
       "      <td>...</td>\n",
       "      <td>...</td>\n",
       "      <td>...</td>\n",
       "    </tr>\n",
       "    <tr>\n",
       "      <th>244121</th>\n",
       "      <td>MainScreenAppear</td>\n",
       "      <td>4599628364049201812</td>\n",
       "      <td>1565212345</td>\n",
       "      <td>247</td>\n",
       "    </tr>\n",
       "    <tr>\n",
       "      <th>244122</th>\n",
       "      <td>MainScreenAppear</td>\n",
       "      <td>5849806612437486590</td>\n",
       "      <td>1565212439</td>\n",
       "      <td>246</td>\n",
       "    </tr>\n",
       "    <tr>\n",
       "      <th>244123</th>\n",
       "      <td>MainScreenAppear</td>\n",
       "      <td>5746969938801999050</td>\n",
       "      <td>1565212483</td>\n",
       "      <td>246</td>\n",
       "    </tr>\n",
       "    <tr>\n",
       "      <th>244124</th>\n",
       "      <td>MainScreenAppear</td>\n",
       "      <td>5746969938801999050</td>\n",
       "      <td>1565212498</td>\n",
       "      <td>246</td>\n",
       "    </tr>\n",
       "    <tr>\n",
       "      <th>244125</th>\n",
       "      <td>OffersScreenAppear</td>\n",
       "      <td>5746969938801999050</td>\n",
       "      <td>1565212517</td>\n",
       "      <td>246</td>\n",
       "    </tr>\n",
       "  </tbody>\n",
       "</table>\n",
       "<p>244126 rows × 4 columns</p>\n",
       "</div>"
      ],
      "text/plain": [
       "                     event_name            device_id  event_time  \\\n",
       "0              MainScreenAppear  4575588528974610257  1564029816   \n",
       "1              MainScreenAppear  7416695313311560658  1564053102   \n",
       "2       PaymentScreenSuccessful  3518123091307005509  1564054127   \n",
       "3              CartScreenAppear  3518123091307005509  1564054127   \n",
       "4       PaymentScreenSuccessful  6217807653094995999  1564055322   \n",
       "...                         ...                  ...         ...   \n",
       "244121         MainScreenAppear  4599628364049201812  1565212345   \n",
       "244122         MainScreenAppear  5849806612437486590  1565212439   \n",
       "244123         MainScreenAppear  5746969938801999050  1565212483   \n",
       "244124         MainScreenAppear  5746969938801999050  1565212498   \n",
       "244125       OffersScreenAppear  5746969938801999050  1565212517   \n",
       "\n",
       "        experiment_id  \n",
       "0                 246  \n",
       "1                 246  \n",
       "2                 248  \n",
       "3                 248  \n",
       "4                 248  \n",
       "...               ...  \n",
       "244121            247  \n",
       "244122            246  \n",
       "244123            246  \n",
       "244124            246  \n",
       "244125            246  \n",
       "\n",
       "[244126 rows x 4 columns]"
      ]
     },
     "execution_count": 6,
     "metadata": {},
     "output_type": "execute_result"
    }
   ],
   "source": [
    "df"
   ]
  },
  {
   "cell_type": "markdown",
   "metadata": {},
   "source": [
    "### Check for missing values and data types. Correct the data if needed"
   ]
  },
  {
   "cell_type": "code",
   "execution_count": 7,
   "metadata": {},
   "outputs": [
    {
     "name": "stdout",
     "output_type": "stream",
     "text": [
      "event_name       0\n",
      "device_id        0\n",
      "event_time       0\n",
      "experiment_id    0\n",
      "dtype: int64\n"
     ]
    }
   ],
   "source": [
    "missing_values = df.isnull().sum()\n",
    "print(missing_values)"
   ]
  },
  {
   "cell_type": "markdown",
   "metadata": {},
   "source": [
    "**General Conclution**\n",
    "\n",
    "The data does not contain missing values"
   ]
  },
  {
   "cell_type": "code",
   "execution_count": 8,
   "metadata": {},
   "outputs": [
    {
     "name": "stdout",
     "output_type": "stream",
     "text": [
      "<class 'pandas.core.frame.DataFrame'>\n",
      "RangeIndex: 244126 entries, 0 to 244125\n",
      "Data columns (total 4 columns):\n",
      " #   Column         Non-Null Count   Dtype \n",
      "---  ------         --------------   ----- \n",
      " 0   event_name     244126 non-null  object\n",
      " 1   device_id      244126 non-null  int64 \n",
      " 2   event_time     244126 non-null  int64 \n",
      " 3   experiment_id  244126 non-null  int64 \n",
      "dtypes: int64(3), object(1)\n",
      "memory usage: 7.5+ MB\n"
     ]
    }
   ],
   "source": [
    "df.info()"
   ]
  },
  {
   "cell_type": "markdown",
   "metadata": {},
   "source": [
    "**General Conclution**\n",
    "\n",
    "The data type is correct"
   ]
  },
  {
   "cell_type": "markdown",
   "metadata": {},
   "source": [
    "### Add a date and time column and a separate column for dates"
   ]
  },
  {
   "cell_type": "code",
   "execution_count": 9,
   "metadata": {
    "scrolled": false
   },
   "outputs": [
    {
     "data": {
      "text/html": [
       "<div>\n",
       "<style scoped>\n",
       "    .dataframe tbody tr th:only-of-type {\n",
       "        vertical-align: middle;\n",
       "    }\n",
       "\n",
       "    .dataframe tbody tr th {\n",
       "        vertical-align: top;\n",
       "    }\n",
       "\n",
       "    .dataframe thead th {\n",
       "        text-align: right;\n",
       "    }\n",
       "</style>\n",
       "<table border=\"1\" class=\"dataframe\">\n",
       "  <thead>\n",
       "    <tr style=\"text-align: right;\">\n",
       "      <th></th>\n",
       "      <th>event_name</th>\n",
       "      <th>device_id</th>\n",
       "      <th>event_time</th>\n",
       "      <th>experiment_id</th>\n",
       "      <th>date</th>\n",
       "      <th>time</th>\n",
       "    </tr>\n",
       "  </thead>\n",
       "  <tbody>\n",
       "    <tr>\n",
       "      <th>0</th>\n",
       "      <td>MainScreenAppear</td>\n",
       "      <td>4575588528974610257</td>\n",
       "      <td>2019-07-25 04:43:36</td>\n",
       "      <td>246</td>\n",
       "      <td>2019-07-25</td>\n",
       "      <td>04:43:36</td>\n",
       "    </tr>\n",
       "    <tr>\n",
       "      <th>1</th>\n",
       "      <td>MainScreenAppear</td>\n",
       "      <td>7416695313311560658</td>\n",
       "      <td>2019-07-25 11:11:42</td>\n",
       "      <td>246</td>\n",
       "      <td>2019-07-25</td>\n",
       "      <td>11:11:42</td>\n",
       "    </tr>\n",
       "    <tr>\n",
       "      <th>2</th>\n",
       "      <td>PaymentScreenSuccessful</td>\n",
       "      <td>3518123091307005509</td>\n",
       "      <td>2019-07-25 11:28:47</td>\n",
       "      <td>248</td>\n",
       "      <td>2019-07-25</td>\n",
       "      <td>11:28:47</td>\n",
       "    </tr>\n",
       "    <tr>\n",
       "      <th>3</th>\n",
       "      <td>CartScreenAppear</td>\n",
       "      <td>3518123091307005509</td>\n",
       "      <td>2019-07-25 11:28:47</td>\n",
       "      <td>248</td>\n",
       "      <td>2019-07-25</td>\n",
       "      <td>11:28:47</td>\n",
       "    </tr>\n",
       "    <tr>\n",
       "      <th>4</th>\n",
       "      <td>PaymentScreenSuccessful</td>\n",
       "      <td>6217807653094995999</td>\n",
       "      <td>2019-07-25 11:48:42</td>\n",
       "      <td>248</td>\n",
       "      <td>2019-07-25</td>\n",
       "      <td>11:48:42</td>\n",
       "    </tr>\n",
       "    <tr>\n",
       "      <th>...</th>\n",
       "      <td>...</td>\n",
       "      <td>...</td>\n",
       "      <td>...</td>\n",
       "      <td>...</td>\n",
       "      <td>...</td>\n",
       "      <td>...</td>\n",
       "    </tr>\n",
       "    <tr>\n",
       "      <th>244121</th>\n",
       "      <td>MainScreenAppear</td>\n",
       "      <td>4599628364049201812</td>\n",
       "      <td>2019-08-07 21:12:25</td>\n",
       "      <td>247</td>\n",
       "      <td>2019-08-07</td>\n",
       "      <td>21:12:25</td>\n",
       "    </tr>\n",
       "    <tr>\n",
       "      <th>244122</th>\n",
       "      <td>MainScreenAppear</td>\n",
       "      <td>5849806612437486590</td>\n",
       "      <td>2019-08-07 21:13:59</td>\n",
       "      <td>246</td>\n",
       "      <td>2019-08-07</td>\n",
       "      <td>21:13:59</td>\n",
       "    </tr>\n",
       "    <tr>\n",
       "      <th>244123</th>\n",
       "      <td>MainScreenAppear</td>\n",
       "      <td>5746969938801999050</td>\n",
       "      <td>2019-08-07 21:14:43</td>\n",
       "      <td>246</td>\n",
       "      <td>2019-08-07</td>\n",
       "      <td>21:14:43</td>\n",
       "    </tr>\n",
       "    <tr>\n",
       "      <th>244124</th>\n",
       "      <td>MainScreenAppear</td>\n",
       "      <td>5746969938801999050</td>\n",
       "      <td>2019-08-07 21:14:58</td>\n",
       "      <td>246</td>\n",
       "      <td>2019-08-07</td>\n",
       "      <td>21:14:58</td>\n",
       "    </tr>\n",
       "    <tr>\n",
       "      <th>244125</th>\n",
       "      <td>OffersScreenAppear</td>\n",
       "      <td>5746969938801999050</td>\n",
       "      <td>2019-08-07 21:15:17</td>\n",
       "      <td>246</td>\n",
       "      <td>2019-08-07</td>\n",
       "      <td>21:15:17</td>\n",
       "    </tr>\n",
       "  </tbody>\n",
       "</table>\n",
       "<p>244126 rows × 6 columns</p>\n",
       "</div>"
      ],
      "text/plain": [
       "                     event_name            device_id          event_time  \\\n",
       "0              MainScreenAppear  4575588528974610257 2019-07-25 04:43:36   \n",
       "1              MainScreenAppear  7416695313311560658 2019-07-25 11:11:42   \n",
       "2       PaymentScreenSuccessful  3518123091307005509 2019-07-25 11:28:47   \n",
       "3              CartScreenAppear  3518123091307005509 2019-07-25 11:28:47   \n",
       "4       PaymentScreenSuccessful  6217807653094995999 2019-07-25 11:48:42   \n",
       "...                         ...                  ...                 ...   \n",
       "244121         MainScreenAppear  4599628364049201812 2019-08-07 21:12:25   \n",
       "244122         MainScreenAppear  5849806612437486590 2019-08-07 21:13:59   \n",
       "244123         MainScreenAppear  5746969938801999050 2019-08-07 21:14:43   \n",
       "244124         MainScreenAppear  5746969938801999050 2019-08-07 21:14:58   \n",
       "244125       OffersScreenAppear  5746969938801999050 2019-08-07 21:15:17   \n",
       "\n",
       "        experiment_id        date      time  \n",
       "0                 246  2019-07-25  04:43:36  \n",
       "1                 246  2019-07-25  11:11:42  \n",
       "2                 248  2019-07-25  11:28:47  \n",
       "3                 248  2019-07-25  11:28:47  \n",
       "4                 248  2019-07-25  11:48:42  \n",
       "...               ...         ...       ...  \n",
       "244121            247  2019-08-07  21:12:25  \n",
       "244122            246  2019-08-07  21:13:59  \n",
       "244123            246  2019-08-07  21:14:43  \n",
       "244124            246  2019-08-07  21:14:58  \n",
       "244125            246  2019-08-07  21:15:17  \n",
       "\n",
       "[244126 rows x 6 columns]"
      ]
     },
     "execution_count": 9,
     "metadata": {},
     "output_type": "execute_result"
    }
   ],
   "source": [
    "# Change 'event_time' coloumn from Unix timestamp format\n",
    "df['event_time'] = pd.to_datetime(df['event_time'], unit='s')\n",
    "\n",
    "# Add a column for dates\n",
    "df['date'] = df['event_time'].dt.date\n",
    "\n",
    "# Add a column for the time\n",
    "df['time'] = df['event_time'].dt.time\n",
    "\n",
    "# Display DataFrame\n",
    "df"
   ]
  },
  {
   "cell_type": "code",
   "execution_count": 10,
   "metadata": {},
   "outputs": [
    {
     "name": "stdout",
     "output_type": "stream",
     "text": [
      "<class 'pandas.core.frame.DataFrame'>\n",
      "RangeIndex: 244126 entries, 0 to 244125\n",
      "Data columns (total 6 columns):\n",
      " #   Column         Non-Null Count   Dtype         \n",
      "---  ------         --------------   -----         \n",
      " 0   event_name     244126 non-null  object        \n",
      " 1   device_id      244126 non-null  int64         \n",
      " 2   event_time     244126 non-null  datetime64[ns]\n",
      " 3   experiment_id  244126 non-null  int64         \n",
      " 4   date           244126 non-null  object        \n",
      " 5   time           244126 non-null  object        \n",
      "dtypes: datetime64[ns](1), int64(2), object(3)\n",
      "memory usage: 11.2+ MB\n"
     ]
    }
   ],
   "source": [
    "df.info()"
   ]
  },
  {
   "cell_type": "markdown",
   "metadata": {},
   "source": [
    "## Step 3. Study and check the data"
   ]
  },
  {
   "cell_type": "markdown",
   "metadata": {},
   "source": [
    "### How many events are in the logs?"
   ]
  },
  {
   "cell_type": "code",
   "execution_count": 11,
   "metadata": {},
   "outputs": [
    {
     "name": "stdout",
     "output_type": "stream",
     "text": [
      "Total number of events: 244126\n"
     ]
    }
   ],
   "source": [
    "# Count the events in the log\n",
    "total_events = df.shape[0]\n",
    "print(\"Total number of events:\", total_events)"
   ]
  },
  {
   "cell_type": "markdown",
   "metadata": {},
   "source": [
    "### How many users are in the logs?"
   ]
  },
  {
   "cell_type": "code",
   "execution_count": 12,
   "metadata": {},
   "outputs": [
    {
     "name": "stdout",
     "output_type": "stream",
     "text": [
      "Number of unique users: 7551\n"
     ]
    }
   ],
   "source": [
    "# Count the users in the log\n",
    "unique_users = df['device_id'].nunique()\n",
    "print(\"Number of unique users:\", unique_users)"
   ]
  },
  {
   "cell_type": "markdown",
   "metadata": {},
   "source": [
    "### What's the average number of events per user?"
   ]
  },
  {
   "cell_type": "code",
   "execution_count": 13,
   "metadata": {},
   "outputs": [
    {
     "name": "stdout",
     "output_type": "stream",
     "text": [
      "Average number of events per user (rounded): 32\n"
     ]
    }
   ],
   "source": [
    "# Calculate average number of events per user\n",
    "average_events_per_user = total_events / unique_users\n",
    "average_events_per_user_rounded = round(average_events_per_user)\n",
    "print(\"Average number of events per user (rounded):\", average_events_per_user_rounded)"
   ]
  },
  {
   "cell_type": "markdown",
   "metadata": {},
   "source": [
    "### What period of time does the data cover? "
   ]
  },
  {
   "cell_type": "markdown",
   "metadata": {},
   "source": [
    "#### Find the maximum and the minimum date. Plot a histogram by date and time. "
   ]
  },
  {
   "cell_type": "code",
   "execution_count": 14,
   "metadata": {},
   "outputs": [
    {
     "name": "stdout",
     "output_type": "stream",
     "text": [
      "Maximum Date: 2019-08-07 21:15:17\n",
      "Minimum Date: 2019-07-25 04:43:36\n"
     ]
    }
   ],
   "source": [
    "# Calculate the maximum and minimum date\n",
    "max_date = df['event_time'].max()\n",
    "min_date = df['event_time'].min()\n",
    "\n",
    "print(\"Maximum Date:\", max_date)\n",
    "print(\"Minimum Date:\", min_date)"
   ]
  },
  {
   "cell_type": "code",
   "execution_count": 15,
   "metadata": {},
   "outputs": [
    {
     "data": {
      "image/png": "[encoded data removed]",
      "text/plain": [
       "<Figure size 864x432 with 1 Axes>"
      ]
     },
     "metadata": {
      "needs_background": "light"
     },
     "output_type": "display_data"
    }
   ],
   "source": [
    "# Plot a histogram by date and time\n",
    "plt.figure(figsize=(12, 6))\n",
    "df['event_time'].hist(bins=50, edgecolor='black')\n",
    "plt.title('Event Distribution Over Time')\n",
    "plt.xlabel('Event Time')\n",
    "plt.ylabel('Number of Events')\n",
    "plt.show()"
   ]
  },
  {
   "cell_type": "markdown",
   "metadata": {},
   "source": [
    "#### Can you be sure that you have equally complete data for the entire period? Older events could end up in some users' logs for technical reasons, and this could skew the overall picture. Find the moment at which the data starts to be complete and ignore the earlier section. What period does the data actually represent?\n",
    "\n",
    "- the moment at which the data starts to be complete is at **2019-08-01**"
   ]
  },
  {
   "cell_type": "code",
   "execution_count": 16,
   "metadata": {},
   "outputs": [
    {
     "data": {
      "image/png": "[encoded data removed]",
      "text/plain": [
       "<Figure size 864x432 with 1 Axes>"
      ]
     },
     "metadata": {
      "needs_background": "light"
     },
     "output_type": "display_data"
    }
   ],
   "source": [
    "# Set the start date to August 1, 2019\n",
    "start_date = '2019-08-01'\n",
    "df_filtered = df[df['event_time'] >= start_date]\n",
    "\n",
    "# Plot a histogram by date and time for the filtered data\n",
    "plt.figure(figsize=(12, 6))\n",
    "df_filtered['event_time'].hist(bins=50, edgecolor='black')\n",
    "plt.title('Event Distribution Over Time (Starting from 2019-08-01)')\n",
    "plt.xlabel('Event Time')\n",
    "plt.ylabel('Number of Events')\n",
    "plt.show()"
   ]
  },
  {
   "cell_type": "markdown",
   "metadata": {},
   "source": [
    "### Did you lose many events and users when excluding the older data?"
   ]
  },
  {
   "cell_type": "code",
   "execution_count": 17,
   "metadata": {},
   "outputs": [
    {
     "name": "stdout",
     "output_type": "stream",
     "text": [
      "Number of events before 2019-08-01: 2828\n",
      "Percentage of events before 2019-08-01: 1.16%\n"
     ]
    }
   ],
   "source": [
    "# Set the last date\n",
    "last_date = '2019-08-01'\n",
    "\n",
    "# Filter events before the cutoff date\n",
    "events_before_last = df[df['event_time'] < last_date]\n",
    "\n",
    "# Count the number of events before the cutoff date\n",
    "num_events_before_last = len(events_before_last)\n",
    "\n",
    "# Calculate the percentage of events before the cutoff date\n",
    "percentage_before_last = (num_events_before_last / total_events) * 100\n",
    "\n",
    "print(\"Number of events before {}: {}\".format(last_date, num_events_before_last))\n",
    "print(\"Percentage of events before {}: {:.2f}%\".format(last_date, percentage_before_last))"
   ]
  },
  {
   "cell_type": "markdown",
   "metadata": {},
   "source": [
    "**General Conclucion**\n",
    "\n",
    "The Data lost accounts for **1.16%** of the entire data set we dod not lose alot of data"
   ]
  },
  {
   "cell_type": "markdown",
   "metadata": {},
   "source": [
    "### Make sure you have users from all three experimental groups."
   ]
  },
  {
   "cell_type": "code",
   "execution_count": 18,
   "metadata": {},
   "outputs": [
    {
     "name": "stdout",
     "output_type": "stream",
     "text": [
      "Unique number of experiment_id: 3\n"
     ]
    }
   ],
   "source": [
    "unique_experiment_ids = df['experiment_id'].nunique()\n",
    "print(\"Unique number of experiment_id:\", unique_experiment_ids)"
   ]
  },
  {
   "cell_type": "markdown",
   "metadata": {},
   "source": [
    "## Step 4. Study the event funnel"
   ]
  },
  {
   "cell_type": "code",
   "execution_count": 19,
   "metadata": {},
   "outputs": [
    {
     "data": {
      "text/html": [
       "<div>\n",
       "<style scoped>\n",
       "    .dataframe tbody tr th:only-of-type {\n",
       "        vertical-align: middle;\n",
       "    }\n",
       "\n",
       "    .dataframe tbody tr th {\n",
       "        vertical-align: top;\n",
       "    }\n",
       "\n",
       "    .dataframe thead th {\n",
       "        text-align: right;\n",
       "    }\n",
       "</style>\n",
       "<table border=\"1\" class=\"dataframe\">\n",
       "  <thead>\n",
       "    <tr style=\"text-align: right;\">\n",
       "      <th></th>\n",
       "      <th>event_name</th>\n",
       "      <th>device_id</th>\n",
       "      <th>event_time</th>\n",
       "      <th>experiment_id</th>\n",
       "      <th>date</th>\n",
       "      <th>time</th>\n",
       "    </tr>\n",
       "  </thead>\n",
       "  <tbody>\n",
       "    <tr>\n",
       "      <th>0</th>\n",
       "      <td>MainScreenAppear</td>\n",
       "      <td>4575588528974610257</td>\n",
       "      <td>2019-07-25 04:43:36</td>\n",
       "      <td>246</td>\n",
       "      <td>2019-07-25</td>\n",
       "      <td>04:43:36</td>\n",
       "    </tr>\n",
       "    <tr>\n",
       "      <th>1</th>\n",
       "      <td>MainScreenAppear</td>\n",
       "      <td>7416695313311560658</td>\n",
       "      <td>2019-07-25 11:11:42</td>\n",
       "      <td>246</td>\n",
       "      <td>2019-07-25</td>\n",
       "      <td>11:11:42</td>\n",
       "    </tr>\n",
       "    <tr>\n",
       "      <th>2</th>\n",
       "      <td>PaymentScreenSuccessful</td>\n",
       "      <td>3518123091307005509</td>\n",
       "      <td>2019-07-25 11:28:47</td>\n",
       "      <td>248</td>\n",
       "      <td>2019-07-25</td>\n",
       "      <td>11:28:47</td>\n",
       "    </tr>\n",
       "    <tr>\n",
       "      <th>3</th>\n",
       "      <td>CartScreenAppear</td>\n",
       "      <td>3518123091307005509</td>\n",
       "      <td>2019-07-25 11:28:47</td>\n",
       "      <td>248</td>\n",
       "      <td>2019-07-25</td>\n",
       "      <td>11:28:47</td>\n",
       "    </tr>\n",
       "    <tr>\n",
       "      <th>4</th>\n",
       "      <td>PaymentScreenSuccessful</td>\n",
       "      <td>6217807653094995999</td>\n",
       "      <td>2019-07-25 11:48:42</td>\n",
       "      <td>248</td>\n",
       "      <td>2019-07-25</td>\n",
       "      <td>11:48:42</td>\n",
       "    </tr>\n",
       "    <tr>\n",
       "      <th>...</th>\n",
       "      <td>...</td>\n",
       "      <td>...</td>\n",
       "      <td>...</td>\n",
       "      <td>...</td>\n",
       "      <td>...</td>\n",
       "      <td>...</td>\n",
       "    </tr>\n",
       "    <tr>\n",
       "      <th>244121</th>\n",
       "      <td>MainScreenAppear</td>\n",
       "      <td>4599628364049201812</td>\n",
       "      <td>2019-08-07 21:12:25</td>\n",
       "      <td>247</td>\n",
       "      <td>2019-08-07</td>\n",
       "      <td>21:12:25</td>\n",
       "    </tr>\n",
       "    <tr>\n",
       "      <th>244122</th>\n",
       "      <td>MainScreenAppear</td>\n",
       "      <td>5849806612437486590</td>\n",
       "      <td>2019-08-07 21:13:59</td>\n",
       "      <td>246</td>\n",
       "      <td>2019-08-07</td>\n",
       "      <td>21:13:59</td>\n",
       "    </tr>\n",
       "    <tr>\n",
       "      <th>244123</th>\n",
       "      <td>MainScreenAppear</td>\n",
       "      <td>5746969938801999050</td>\n",
       "      <td>2019-08-07 21:14:43</td>\n",
       "      <td>246</td>\n",
       "      <td>2019-08-07</td>\n",
       "      <td>21:14:43</td>\n",
       "    </tr>\n",
       "    <tr>\n",
       "      <th>244124</th>\n",
       "      <td>MainScreenAppear</td>\n",
       "      <td>5746969938801999050</td>\n",
       "      <td>2019-08-07 21:14:58</td>\n",
       "      <td>246</td>\n",
       "      <td>2019-08-07</td>\n",
       "      <td>21:14:58</td>\n",
       "    </tr>\n",
       "    <tr>\n",
       "      <th>244125</th>\n",
       "      <td>OffersScreenAppear</td>\n",
       "      <td>5746969938801999050</td>\n",
       "      <td>2019-08-07 21:15:17</td>\n",
       "      <td>246</td>\n",
       "      <td>2019-08-07</td>\n",
       "      <td>21:15:17</td>\n",
       "    </tr>\n",
       "  </tbody>\n",
       "</table>\n",
       "<p>244126 rows × 6 columns</p>\n",
       "</div>"
      ],
      "text/plain": [
       "                     event_name            device_id          event_time  \\\n",
       "0              MainScreenAppear  4575588528974610257 2019-07-25 04:43:36   \n",
       "1              MainScreenAppear  7416695313311560658 2019-07-25 11:11:42   \n",
       "2       PaymentScreenSuccessful  3518123091307005509 2019-07-25 11:28:47   \n",
       "3              CartScreenAppear  3518123091307005509 2019-07-25 11:28:47   \n",
       "4       PaymentScreenSuccessful  6217807653094995999 2019-07-25 11:48:42   \n",
       "...                         ...                  ...                 ...   \n",
       "244121         MainScreenAppear  4599628364049201812 2019-08-07 21:12:25   \n",
       "244122         MainScreenAppear  5849806612437486590 2019-08-07 21:13:59   \n",
       "244123         MainScreenAppear  5746969938801999050 2019-08-07 21:14:43   \n",
       "244124         MainScreenAppear  5746969938801999050 2019-08-07 21:14:58   \n",
       "244125       OffersScreenAppear  5746969938801999050 2019-08-07 21:15:17   \n",
       "\n",
       "        experiment_id        date      time  \n",
       "0                 246  2019-07-25  04:43:36  \n",
       "1                 246  2019-07-25  11:11:42  \n",
       "2                 248  2019-07-25  11:28:47  \n",
       "3                 248  2019-07-25  11:28:47  \n",
       "4                 248  2019-07-25  11:48:42  \n",
       "...               ...         ...       ...  \n",
       "244121            247  2019-08-07  21:12:25  \n",
       "244122            246  2019-08-07  21:13:59  \n",
       "244123            246  2019-08-07  21:14:43  \n",
       "244124            246  2019-08-07  21:14:58  \n",
       "244125            246  2019-08-07  21:15:17  \n",
       "\n",
       "[244126 rows x 6 columns]"
      ]
     },
     "execution_count": 19,
     "metadata": {},
     "output_type": "execute_result"
    }
   ],
   "source": [
    "df"
   ]
  },
  {
   "cell_type": "code",
   "execution_count": 20,
   "metadata": {},
   "outputs": [
    {
     "name": "stdout",
     "output_type": "stream",
     "text": [
      "df_247:\n"
     ]
    },
    {
     "data": {
      "text/html": [
       "<div>\n",
       "<style scoped>\n",
       "    .dataframe tbody tr th:only-of-type {\n",
       "        vertical-align: middle;\n",
       "    }\n",
       "\n",
       "    .dataframe tbody tr th {\n",
       "        vertical-align: top;\n",
       "    }\n",
       "\n",
       "    .dataframe thead th {\n",
       "        text-align: right;\n",
       "    }\n",
       "</style>\n",
       "<table border=\"1\" class=\"dataframe\">\n",
       "  <thead>\n",
       "    <tr style=\"text-align: right;\">\n",
       "      <th></th>\n",
       "      <th>event_name</th>\n",
       "      <th>device_id</th>\n",
       "      <th>event_time</th>\n",
       "      <th>experiment_id</th>\n",
       "      <th>date</th>\n",
       "      <th>time</th>\n",
       "    </tr>\n",
       "  </thead>\n",
       "  <tbody>\n",
       "    <tr>\n",
       "      <th>8</th>\n",
       "      <td>MainScreenAppear</td>\n",
       "      <td>1850981295691852772</td>\n",
       "      <td>2019-07-25 20:31:42</td>\n",
       "      <td>247</td>\n",
       "      <td>2019-07-25</td>\n",
       "      <td>20:31:42</td>\n",
       "    </tr>\n",
       "    <tr>\n",
       "      <th>10</th>\n",
       "      <td>MainScreenAppear</td>\n",
       "      <td>948465712512390382</td>\n",
       "      <td>2019-07-26 05:33:34</td>\n",
       "      <td>247</td>\n",
       "      <td>2019-07-26</td>\n",
       "      <td>05:33:34</td>\n",
       "    </tr>\n",
       "    <tr>\n",
       "      <th>13</th>\n",
       "      <td>MainScreenAppear</td>\n",
       "      <td>2140904690380565988</td>\n",
       "      <td>2019-07-26 07:22:12</td>\n",
       "      <td>247</td>\n",
       "      <td>2019-07-26</td>\n",
       "      <td>07:22:12</td>\n",
       "    </tr>\n",
       "    <tr>\n",
       "      <th>16</th>\n",
       "      <td>MainScreenAppear</td>\n",
       "      <td>5839517684026830712</td>\n",
       "      <td>2019-07-26 11:43:41</td>\n",
       "      <td>247</td>\n",
       "      <td>2019-07-26</td>\n",
       "      <td>11:43:41</td>\n",
       "    </tr>\n",
       "    <tr>\n",
       "      <th>18</th>\n",
       "      <td>CartScreenAppear</td>\n",
       "      <td>2575393697599976818</td>\n",
       "      <td>2019-07-26 13:49:05</td>\n",
       "      <td>247</td>\n",
       "      <td>2019-07-26</td>\n",
       "      <td>13:49:05</td>\n",
       "    </tr>\n",
       "  </tbody>\n",
       "</table>\n",
       "</div>"
      ],
      "text/plain": [
       "          event_name            device_id          event_time  experiment_id  \\\n",
       "8   MainScreenAppear  1850981295691852772 2019-07-25 20:31:42            247   \n",
       "10  MainScreenAppear   948465712512390382 2019-07-26 05:33:34            247   \n",
       "13  MainScreenAppear  2140904690380565988 2019-07-26 07:22:12            247   \n",
       "16  MainScreenAppear  5839517684026830712 2019-07-26 11:43:41            247   \n",
       "18  CartScreenAppear  2575393697599976818 2019-07-26 13:49:05            247   \n",
       "\n",
       "          date      time  \n",
       "8   2019-07-25  20:31:42  \n",
       "10  2019-07-26  05:33:34  \n",
       "13  2019-07-26  07:22:12  \n",
       "16  2019-07-26  11:43:41  \n",
       "18  2019-07-26  13:49:05  "
      ]
     },
     "metadata": {},
     "output_type": "display_data"
    },
    {
     "name": "stdout",
     "output_type": "stream",
     "text": [
      "\n",
      "df_248:\n"
     ]
    },
    {
     "data": {
      "text/html": [
       "<div>\n",
       "<style scoped>\n",
       "    .dataframe tbody tr th:only-of-type {\n",
       "        vertical-align: middle;\n",
       "    }\n",
       "\n",
       "    .dataframe tbody tr th {\n",
       "        vertical-align: top;\n",
       "    }\n",
       "\n",
       "    .dataframe thead th {\n",
       "        text-align: right;\n",
       "    }\n",
       "</style>\n",
       "<table border=\"1\" class=\"dataframe\">\n",
       "  <thead>\n",
       "    <tr style=\"text-align: right;\">\n",
       "      <th></th>\n",
       "      <th>event_name</th>\n",
       "      <th>device_id</th>\n",
       "      <th>event_time</th>\n",
       "      <th>experiment_id</th>\n",
       "      <th>date</th>\n",
       "      <th>time</th>\n",
       "    </tr>\n",
       "  </thead>\n",
       "  <tbody>\n",
       "    <tr>\n",
       "      <th>2</th>\n",
       "      <td>PaymentScreenSuccessful</td>\n",
       "      <td>3518123091307005509</td>\n",
       "      <td>2019-07-25 11:28:47</td>\n",
       "      <td>248</td>\n",
       "      <td>2019-07-25</td>\n",
       "      <td>11:28:47</td>\n",
       "    </tr>\n",
       "    <tr>\n",
       "      <th>3</th>\n",
       "      <td>CartScreenAppear</td>\n",
       "      <td>3518123091307005509</td>\n",
       "      <td>2019-07-25 11:28:47</td>\n",
       "      <td>248</td>\n",
       "      <td>2019-07-25</td>\n",
       "      <td>11:28:47</td>\n",
       "    </tr>\n",
       "    <tr>\n",
       "      <th>4</th>\n",
       "      <td>PaymentScreenSuccessful</td>\n",
       "      <td>6217807653094995999</td>\n",
       "      <td>2019-07-25 11:48:42</td>\n",
       "      <td>248</td>\n",
       "      <td>2019-07-25</td>\n",
       "      <td>11:48:42</td>\n",
       "    </tr>\n",
       "    <tr>\n",
       "      <th>5</th>\n",
       "      <td>CartScreenAppear</td>\n",
       "      <td>6217807653094995999</td>\n",
       "      <td>2019-07-25 11:48:43</td>\n",
       "      <td>248</td>\n",
       "      <td>2019-07-25</td>\n",
       "      <td>11:48:43</td>\n",
       "    </tr>\n",
       "    <tr>\n",
       "      <th>11</th>\n",
       "      <td>MainScreenAppear</td>\n",
       "      <td>2547684315586332355</td>\n",
       "      <td>2019-07-26 06:50:26</td>\n",
       "      <td>248</td>\n",
       "      <td>2019-07-26</td>\n",
       "      <td>06:50:26</td>\n",
       "    </tr>\n",
       "  </tbody>\n",
       "</table>\n",
       "</div>"
      ],
      "text/plain": [
       "                 event_name            device_id          event_time  \\\n",
       "2   PaymentScreenSuccessful  3518123091307005509 2019-07-25 11:28:47   \n",
       "3          CartScreenAppear  3518123091307005509 2019-07-25 11:28:47   \n",
       "4   PaymentScreenSuccessful  6217807653094995999 2019-07-25 11:48:42   \n",
       "5          CartScreenAppear  6217807653094995999 2019-07-25 11:48:43   \n",
       "11         MainScreenAppear  2547684315586332355 2019-07-26 06:50:26   \n",
       "\n",
       "    experiment_id        date      time  \n",
       "2             248  2019-07-25  11:28:47  \n",
       "3             248  2019-07-25  11:28:47  \n",
       "4             248  2019-07-25  11:48:42  \n",
       "5             248  2019-07-25  11:48:43  \n",
       "11            248  2019-07-26  06:50:26  "
      ]
     },
     "metadata": {},
     "output_type": "display_data"
    },
    {
     "name": "stdout",
     "output_type": "stream",
     "text": [
      "\n",
      "df_246:\n"
     ]
    },
    {
     "data": {
      "text/html": [
       "<div>\n",
       "<style scoped>\n",
       "    .dataframe tbody tr th:only-of-type {\n",
       "        vertical-align: middle;\n",
       "    }\n",
       "\n",
       "    .dataframe tbody tr th {\n",
       "        vertical-align: top;\n",
       "    }\n",
       "\n",
       "    .dataframe thead th {\n",
       "        text-align: right;\n",
       "    }\n",
       "</style>\n",
       "<table border=\"1\" class=\"dataframe\">\n",
       "  <thead>\n",
       "    <tr style=\"text-align: right;\">\n",
       "      <th></th>\n",
       "      <th>event_name</th>\n",
       "      <th>device_id</th>\n",
       "      <th>event_time</th>\n",
       "      <th>experiment_id</th>\n",
       "      <th>date</th>\n",
       "      <th>time</th>\n",
       "    </tr>\n",
       "  </thead>\n",
       "  <tbody>\n",
       "    <tr>\n",
       "      <th>0</th>\n",
       "      <td>MainScreenAppear</td>\n",
       "      <td>4575588528974610257</td>\n",
       "      <td>2019-07-25 04:43:36</td>\n",
       "      <td>246</td>\n",
       "      <td>2019-07-25</td>\n",
       "      <td>04:43:36</td>\n",
       "    </tr>\n",
       "    <tr>\n",
       "      <th>1</th>\n",
       "      <td>MainScreenAppear</td>\n",
       "      <td>7416695313311560658</td>\n",
       "      <td>2019-07-25 11:11:42</td>\n",
       "      <td>246</td>\n",
       "      <td>2019-07-25</td>\n",
       "      <td>11:11:42</td>\n",
       "    </tr>\n",
       "    <tr>\n",
       "      <th>6</th>\n",
       "      <td>OffersScreenAppear</td>\n",
       "      <td>8351860793733343758</td>\n",
       "      <td>2019-07-25 14:50:42</td>\n",
       "      <td>246</td>\n",
       "      <td>2019-07-25</td>\n",
       "      <td>14:50:42</td>\n",
       "    </tr>\n",
       "    <tr>\n",
       "      <th>7</th>\n",
       "      <td>MainScreenAppear</td>\n",
       "      <td>5682100281902512875</td>\n",
       "      <td>2019-07-25 20:14:37</td>\n",
       "      <td>246</td>\n",
       "      <td>2019-07-25</td>\n",
       "      <td>20:14:37</td>\n",
       "    </tr>\n",
       "    <tr>\n",
       "      <th>9</th>\n",
       "      <td>MainScreenAppear</td>\n",
       "      <td>5407636962369102641</td>\n",
       "      <td>2019-07-26 03:35:12</td>\n",
       "      <td>246</td>\n",
       "      <td>2019-07-26</td>\n",
       "      <td>03:35:12</td>\n",
       "    </tr>\n",
       "  </tbody>\n",
       "</table>\n",
       "</div>"
      ],
      "text/plain": [
       "           event_name            device_id          event_time  experiment_id  \\\n",
       "0    MainScreenAppear  4575588528974610257 2019-07-25 04:43:36            246   \n",
       "1    MainScreenAppear  7416695313311560658 2019-07-25 11:11:42            246   \n",
       "6  OffersScreenAppear  8351860793733343758 2019-07-25 14:50:42            246   \n",
       "7    MainScreenAppear  5682100281902512875 2019-07-25 20:14:37            246   \n",
       "9    MainScreenAppear  5407636962369102641 2019-07-26 03:35:12            246   \n",
       "\n",
       "         date      time  \n",
       "0  2019-07-25  04:43:36  \n",
       "1  2019-07-25  11:11:42  \n",
       "6  2019-07-25  14:50:42  \n",
       "7  2019-07-25  20:14:37  \n",
       "9  2019-07-26  03:35:12  "
      ]
     },
     "metadata": {},
     "output_type": "display_data"
    }
   ],
   "source": [
    "# Create three separate DataFrames based on experiment_id\n",
    "df_247 = df[df['experiment_id'] == 247]\n",
    "df_248 = df[df['experiment_id'] == 248]\n",
    "df_246 = df[df['experiment_id'] == 246]\n",
    "\n",
    "# Print the first few rows of each DataFrame\n",
    "print(\"df_247:\")\n",
    "display(df_247.head())\n",
    "\n",
    "print(\"\\ndf_248:\")\n",
    "display(df_248.head())\n",
    "\n",
    "print(\"\\ndf_246:\")\n",
    "display(df_246.head())"
   ]
  },
  {
   "cell_type": "markdown",
   "metadata": {},
   "source": [
    "### See what events are in the logs and their frequency of occurrence. Sort them by frequency."
   ]
  },
  {
   "cell_type": "code",
   "execution_count": 21,
   "metadata": {},
   "outputs": [
    {
     "name": "stdout",
     "output_type": "stream",
     "text": [
      "Events and their frequency of occurrence:\n"
     ]
    },
    {
     "data": {
      "text/html": [
       "<div>\n",
       "<style scoped>\n",
       "    .dataframe tbody tr th:only-of-type {\n",
       "        vertical-align: middle;\n",
       "    }\n",
       "\n",
       "    .dataframe tbody tr th {\n",
       "        vertical-align: top;\n",
       "    }\n",
       "\n",
       "    .dataframe thead th {\n",
       "        text-align: right;\n",
       "    }\n",
       "</style>\n",
       "<table border=\"1\" class=\"dataframe\">\n",
       "  <thead>\n",
       "    <tr style=\"text-align: right;\">\n",
       "      <th></th>\n",
       "      <th>event_name</th>\n",
       "      <th>frequency</th>\n",
       "    </tr>\n",
       "  </thead>\n",
       "  <tbody>\n",
       "    <tr>\n",
       "      <th>0</th>\n",
       "      <td>MainScreenAppear</td>\n",
       "      <td>119205</td>\n",
       "    </tr>\n",
       "    <tr>\n",
       "      <th>1</th>\n",
       "      <td>OffersScreenAppear</td>\n",
       "      <td>46825</td>\n",
       "    </tr>\n",
       "    <tr>\n",
       "      <th>2</th>\n",
       "      <td>CartScreenAppear</td>\n",
       "      <td>42731</td>\n",
       "    </tr>\n",
       "    <tr>\n",
       "      <th>3</th>\n",
       "      <td>PaymentScreenSuccessful</td>\n",
       "      <td>34313</td>\n",
       "    </tr>\n",
       "    <tr>\n",
       "      <th>4</th>\n",
       "      <td>Tutorial</td>\n",
       "      <td>1052</td>\n",
       "    </tr>\n",
       "  </tbody>\n",
       "</table>\n",
       "</div>"
      ],
      "text/plain": [
       "                event_name  frequency\n",
       "0         MainScreenAppear     119205\n",
       "1       OffersScreenAppear      46825\n",
       "2         CartScreenAppear      42731\n",
       "3  PaymentScreenSuccessful      34313\n",
       "4                 Tutorial       1052"
      ]
     },
     "execution_count": 21,
     "metadata": {},
     "output_type": "execute_result"
    }
   ],
   "source": [
    "# Calculate the event Frequency\n",
    "event_frequency = df['event_name'].value_counts().reset_index()\n",
    "event_frequency.columns = ['event_name', 'frequency']\n",
    "\n",
    "# Sort the events by frequency\n",
    "sorted_event_frequency = event_frequency.sort_values(by='frequency', ascending=False)\n",
    "\n",
    "# Print the sorted events and their frequencies\n",
    "print(\"Events and their frequency of occurrence:\")\n",
    "sorted_event_frequency"
   ]
  },
  {
   "cell_type": "code",
   "execution_count": 22,
   "metadata": {},
   "outputs": [
    {
     "name": "stdout",
     "output_type": "stream",
     "text": [
      "Events and their frequency of occurrence in df_247:\n"
     ]
    },
    {
     "data": {
      "text/html": [
       "<div>\n",
       "<style scoped>\n",
       "    .dataframe tbody tr th:only-of-type {\n",
       "        vertical-align: middle;\n",
       "    }\n",
       "\n",
       "    .dataframe tbody tr th {\n",
       "        vertical-align: top;\n",
       "    }\n",
       "\n",
       "    .dataframe thead th {\n",
       "        text-align: right;\n",
       "    }\n",
       "</style>\n",
       "<table border=\"1\" class=\"dataframe\">\n",
       "  <thead>\n",
       "    <tr style=\"text-align: right;\">\n",
       "      <th></th>\n",
       "      <th>event_name</th>\n",
       "      <th>frequency_247</th>\n",
       "    </tr>\n",
       "  </thead>\n",
       "  <tbody>\n",
       "    <tr>\n",
       "      <th>0</th>\n",
       "      <td>MainScreenAppear</td>\n",
       "      <td>39710</td>\n",
       "    </tr>\n",
       "    <tr>\n",
       "      <th>1</th>\n",
       "      <td>OffersScreenAppear</td>\n",
       "      <td>15344</td>\n",
       "    </tr>\n",
       "    <tr>\n",
       "      <th>2</th>\n",
       "      <td>CartScreenAppear</td>\n",
       "      <td>12570</td>\n",
       "    </tr>\n",
       "    <tr>\n",
       "      <th>3</th>\n",
       "      <td>PaymentScreenSuccessful</td>\n",
       "      <td>10101</td>\n",
       "    </tr>\n",
       "    <tr>\n",
       "      <th>4</th>\n",
       "      <td>Tutorial</td>\n",
       "      <td>350</td>\n",
       "    </tr>\n",
       "  </tbody>\n",
       "</table>\n",
       "</div>"
      ],
      "text/plain": [
       "                event_name  frequency_247\n",
       "0         MainScreenAppear          39710\n",
       "1       OffersScreenAppear          15344\n",
       "2         CartScreenAppear          12570\n",
       "3  PaymentScreenSuccessful          10101\n",
       "4                 Tutorial            350"
      ]
     },
     "metadata": {},
     "output_type": "display_data"
    },
    {
     "name": "stdout",
     "output_type": "stream",
     "text": [
      "\n",
      "Events and their frequency of occurrence in df_248:\n"
     ]
    },
    {
     "data": {
      "text/html": [
       "<div>\n",
       "<style scoped>\n",
       "    .dataframe tbody tr th:only-of-type {\n",
       "        vertical-align: middle;\n",
       "    }\n",
       "\n",
       "    .dataframe tbody tr th {\n",
       "        vertical-align: top;\n",
       "    }\n",
       "\n",
       "    .dataframe thead th {\n",
       "        text-align: right;\n",
       "    }\n",
       "</style>\n",
       "<table border=\"1\" class=\"dataframe\">\n",
       "  <thead>\n",
       "    <tr style=\"text-align: right;\">\n",
       "      <th></th>\n",
       "      <th>event_name</th>\n",
       "      <th>frequency_248</th>\n",
       "    </tr>\n",
       "  </thead>\n",
       "  <tbody>\n",
       "    <tr>\n",
       "      <th>0</th>\n",
       "      <td>MainScreenAppear</td>\n",
       "      <td>41214</td>\n",
       "    </tr>\n",
       "    <tr>\n",
       "      <th>1</th>\n",
       "      <td>OffersScreenAppear</td>\n",
       "      <td>16571</td>\n",
       "    </tr>\n",
       "    <tr>\n",
       "      <th>2</th>\n",
       "      <td>CartScreenAppear</td>\n",
       "      <td>15342</td>\n",
       "    </tr>\n",
       "    <tr>\n",
       "      <th>3</th>\n",
       "      <td>PaymentScreenSuccessful</td>\n",
       "      <td>12242</td>\n",
       "    </tr>\n",
       "    <tr>\n",
       "      <th>4</th>\n",
       "      <td>Tutorial</td>\n",
       "      <td>378</td>\n",
       "    </tr>\n",
       "  </tbody>\n",
       "</table>\n",
       "</div>"
      ],
      "text/plain": [
       "                event_name  frequency_248\n",
       "0         MainScreenAppear          41214\n",
       "1       OffersScreenAppear          16571\n",
       "2         CartScreenAppear          15342\n",
       "3  PaymentScreenSuccessful          12242\n",
       "4                 Tutorial            378"
      ]
     },
     "metadata": {},
     "output_type": "display_data"
    },
    {
     "name": "stdout",
     "output_type": "stream",
     "text": [
      "\n",
      "Events and their frequency of occurrence in df_246:\n"
     ]
    },
    {
     "data": {
      "text/html": [
       "<div>\n",
       "<style scoped>\n",
       "    .dataframe tbody tr th:only-of-type {\n",
       "        vertical-align: middle;\n",
       "    }\n",
       "\n",
       "    .dataframe tbody tr th {\n",
       "        vertical-align: top;\n",
       "    }\n",
       "\n",
       "    .dataframe thead th {\n",
       "        text-align: right;\n",
       "    }\n",
       "</style>\n",
       "<table border=\"1\" class=\"dataframe\">\n",
       "  <thead>\n",
       "    <tr style=\"text-align: right;\">\n",
       "      <th></th>\n",
       "      <th>event_name</th>\n",
       "      <th>frequency_246</th>\n",
       "    </tr>\n",
       "  </thead>\n",
       "  <tbody>\n",
       "    <tr>\n",
       "      <th>0</th>\n",
       "      <td>MainScreenAppear</td>\n",
       "      <td>38281</td>\n",
       "    </tr>\n",
       "    <tr>\n",
       "      <th>1</th>\n",
       "      <td>OffersScreenAppear</td>\n",
       "      <td>14910</td>\n",
       "    </tr>\n",
       "    <tr>\n",
       "      <th>2</th>\n",
       "      <td>CartScreenAppear</td>\n",
       "      <td>14819</td>\n",
       "    </tr>\n",
       "    <tr>\n",
       "      <th>3</th>\n",
       "      <td>PaymentScreenSuccessful</td>\n",
       "      <td>11970</td>\n",
       "    </tr>\n",
       "    <tr>\n",
       "      <th>4</th>\n",
       "      <td>Tutorial</td>\n",
       "      <td>324</td>\n",
       "    </tr>\n",
       "  </tbody>\n",
       "</table>\n",
       "</div>"
      ],
      "text/plain": [
       "                event_name  frequency_246\n",
       "0         MainScreenAppear          38281\n",
       "1       OffersScreenAppear          14910\n",
       "2         CartScreenAppear          14819\n",
       "3  PaymentScreenSuccessful          11970\n",
       "4                 Tutorial            324"
      ]
     },
     "metadata": {},
     "output_type": "display_data"
    }
   ],
   "source": [
    "# Calculate and print event frequency for df_247\n",
    "event_frequency_247 = df_247['event_name'].value_counts().reset_index()\n",
    "event_frequency_247.columns = ['event_name', 'frequency_247']\n",
    "\n",
    "sorted_event_frequency_247 = event_frequency_247.sort_values(by='frequency_247', ascending=False)\n",
    "\n",
    "print(\"Events and their frequency of occurrence in df_247:\")\n",
    "display(sorted_event_frequency_247)\n",
    "\n",
    "# Calculate and print event frequency for df_248\n",
    "event_frequency_248 = df_248['event_name'].value_counts().reset_index()\n",
    "event_frequency_248.columns = ['event_name', 'frequency_248']\n",
    "\n",
    "sorted_event_frequency_248 = event_frequency_248.sort_values(by='frequency_248', ascending=False)\n",
    "\n",
    "print(\"\\nEvents and their frequency of occurrence in df_248:\")\n",
    "display(sorted_event_frequency_248)\n",
    "\n",
    "# Calculate and print event frequency for df_246\n",
    "event_frequency_246 = df_246['event_name'].value_counts().reset_index()\n",
    "event_frequency_246.columns = ['event_name', 'frequency_246']\n",
    "\n",
    "sorted_event_frequency_246 = event_frequency_246.sort_values(by='frequency_246', ascending=False)\n",
    "\n",
    "print(\"\\nEvents and their frequency of occurrence in df_246:\")\n",
    "display(sorted_event_frequency_246)"
   ]
  },
  {
   "cell_type": "markdown",
   "metadata": {},
   "source": [
    "### Find the number of users who performed each of these actions. Sort the events by the number of users. Calculate the proportion of users who performed the action at least once."
   ]
  },
  {
   "cell_type": "code",
   "execution_count": 23,
   "metadata": {},
   "outputs": [
    {
     "data": {
      "text/html": [
       "<div>\n",
       "<style scoped>\n",
       "    .dataframe tbody tr th:only-of-type {\n",
       "        vertical-align: middle;\n",
       "    }\n",
       "\n",
       "    .dataframe tbody tr th {\n",
       "        vertical-align: top;\n",
       "    }\n",
       "\n",
       "    .dataframe thead th {\n",
       "        text-align: right;\n",
       "    }\n",
       "</style>\n",
       "<table border=\"1\" class=\"dataframe\">\n",
       "  <thead>\n",
       "    <tr style=\"text-align: right;\">\n",
       "      <th></th>\n",
       "      <th>Event</th>\n",
       "      <th>Users Count</th>\n",
       "      <th>Proportion of Users</th>\n",
       "    </tr>\n",
       "  </thead>\n",
       "  <tbody>\n",
       "    <tr>\n",
       "      <th>1</th>\n",
       "      <td>MainScreenAppear</td>\n",
       "      <td>7439</td>\n",
       "      <td>0.985168</td>\n",
       "    </tr>\n",
       "    <tr>\n",
       "      <th>2</th>\n",
       "      <td>OffersScreenAppear</td>\n",
       "      <td>4613</td>\n",
       "      <td>0.610912</td>\n",
       "    </tr>\n",
       "    <tr>\n",
       "      <th>0</th>\n",
       "      <td>CartScreenAppear</td>\n",
       "      <td>3749</td>\n",
       "      <td>0.496491</td>\n",
       "    </tr>\n",
       "    <tr>\n",
       "      <th>3</th>\n",
       "      <td>PaymentScreenSuccessful</td>\n",
       "      <td>3547</td>\n",
       "      <td>0.469739</td>\n",
       "    </tr>\n",
       "    <tr>\n",
       "      <th>4</th>\n",
       "      <td>Tutorial</td>\n",
       "      <td>847</td>\n",
       "      <td>0.112171</td>\n",
       "    </tr>\n",
       "  </tbody>\n",
       "</table>\n",
       "</div>"
      ],
      "text/plain": [
       "                     Event  Users Count  Proportion of Users\n",
       "1         MainScreenAppear         7439             0.985168\n",
       "2       OffersScreenAppear         4613             0.610912\n",
       "0         CartScreenAppear         3749             0.496491\n",
       "3  PaymentScreenSuccessful         3547             0.469739\n",
       "4                 Tutorial          847             0.112171"
      ]
     },
     "execution_count": 23,
     "metadata": {},
     "output_type": "execute_result"
    }
   ],
   "source": [
    "# Count the number of users who performed each action\n",
    "users_per_event = df.groupby('event_name')['device_id'].nunique()\n",
    "\n",
    "# Create a new DataFrame to display the results\n",
    "users_per_event_df = pd.DataFrame({\n",
    "    'Event': users_per_event.index,\n",
    "    'Users Count': users_per_event.values\n",
    "})\n",
    "\n",
    "# Sort the DataFrame by the number of users in descending order\n",
    "users_per_event_df = users_per_event_df.sort_values(by='Users Count', ascending=False)\n",
    "\n",
    "# Calculate the proportion of users who performed the action at least once\n",
    "total_users = df['device_id'].nunique()\n",
    "users_per_event_df['Proportion of Users'] = users_per_event_df['Users Count'] / total_users\n",
    "\n",
    "# Display\n",
    "users_per_event_df"
   ]
  },
  {
   "cell_type": "code",
   "execution_count": 24,
   "metadata": {
    "scrolled": true
   },
   "outputs": [
    {
     "data": {
      "image/png": "[encoded data removed]",
      "text/plain": [
       "<Figure size 720x432 with 1 Axes>"
      ]
     },
     "metadata": {
      "needs_background": "light"
     },
     "output_type": "display_data"
    }
   ],
   "source": [
    "# Sorting the DataFrame by the order of events\n",
    "events_order = ['MainScreenAppear', 'OffersScreenAppear', 'CartScreenAppear', 'PaymentScreenSuccessful', 'Tutorial']\n",
    "users_per_event_df['Event'] = pd.Categorical(users_per_event_df['Event'], categories=events_order, ordered=True)\n",
    "users_per_event_df = users_per_event_df.sort_values('Event')\n",
    "\n",
    "# Create a chart\n",
    "plt.figure(figsize=(10, 6))\n",
    "plt.barh(users_per_event_df['Event'], users_per_event_df['Users Count'], color='skyblue')\n",
    "plt.title('Funnel Chart - Users Progression Through Events')\n",
    "plt.xlabel('Number of Users')\n",
    "plt.ylabel('Event')\n",
    "plt.show()"
   ]
  },
  {
   "cell_type": "markdown",
   "metadata": {},
   "source": [
    "**Separate the 3 groups**"
   ]
  },
  {
   "cell_type": "code",
   "execution_count": 25,
   "metadata": {},
   "outputs": [
    {
     "name": "stdout",
     "output_type": "stream",
     "text": [
      "Users per event in df_247:\n"
     ]
    },
    {
     "data": {
      "text/html": [
       "<div>\n",
       "<style scoped>\n",
       "    .dataframe tbody tr th:only-of-type {\n",
       "        vertical-align: middle;\n",
       "    }\n",
       "\n",
       "    .dataframe tbody tr th {\n",
       "        vertical-align: top;\n",
       "    }\n",
       "\n",
       "    .dataframe thead th {\n",
       "        text-align: right;\n",
       "    }\n",
       "</style>\n",
       "<table border=\"1\" class=\"dataframe\">\n",
       "  <thead>\n",
       "    <tr style=\"text-align: right;\">\n",
       "      <th></th>\n",
       "      <th>Event</th>\n",
       "      <th>Users Count_247</th>\n",
       "      <th>Proportion of Users_247</th>\n",
       "    </tr>\n",
       "  </thead>\n",
       "  <tbody>\n",
       "    <tr>\n",
       "      <th>1</th>\n",
       "      <td>MainScreenAppear</td>\n",
       "      <td>2482</td>\n",
       "      <td>0.984921</td>\n",
       "    </tr>\n",
       "    <tr>\n",
       "      <th>2</th>\n",
       "      <td>OffersScreenAppear</td>\n",
       "      <td>1530</td>\n",
       "      <td>0.607143</td>\n",
       "    </tr>\n",
       "    <tr>\n",
       "      <th>0</th>\n",
       "      <td>CartScreenAppear</td>\n",
       "      <td>1240</td>\n",
       "      <td>0.492063</td>\n",
       "    </tr>\n",
       "    <tr>\n",
       "      <th>3</th>\n",
       "      <td>PaymentScreenSuccessful</td>\n",
       "      <td>1160</td>\n",
       "      <td>0.460317</td>\n",
       "    </tr>\n",
       "    <tr>\n",
       "      <th>4</th>\n",
       "      <td>Tutorial</td>\n",
       "      <td>286</td>\n",
       "      <td>0.113492</td>\n",
       "    </tr>\n",
       "  </tbody>\n",
       "</table>\n",
       "</div>"
      ],
      "text/plain": [
       "                     Event  Users Count_247  Proportion of Users_247\n",
       "1         MainScreenAppear             2482                 0.984921\n",
       "2       OffersScreenAppear             1530                 0.607143\n",
       "0         CartScreenAppear             1240                 0.492063\n",
       "3  PaymentScreenSuccessful             1160                 0.460317\n",
       "4                 Tutorial              286                 0.113492"
      ]
     },
     "metadata": {},
     "output_type": "display_data"
    },
    {
     "name": "stdout",
     "output_type": "stream",
     "text": [
      "\n",
      "Users per event in df_248:\n"
     ]
    },
    {
     "data": {
      "text/html": [
       "<div>\n",
       "<style scoped>\n",
       "    .dataframe tbody tr th:only-of-type {\n",
       "        vertical-align: middle;\n",
       "    }\n",
       "\n",
       "    .dataframe tbody tr th {\n",
       "        vertical-align: top;\n",
       "    }\n",
       "\n",
       "    .dataframe thead th {\n",
       "        text-align: right;\n",
       "    }\n",
       "</style>\n",
       "<table border=\"1\" class=\"dataframe\">\n",
       "  <thead>\n",
       "    <tr style=\"text-align: right;\">\n",
       "      <th></th>\n",
       "      <th>Event</th>\n",
       "      <th>Users Count_248</th>\n",
       "      <th>Proportion of Users_248</th>\n",
       "    </tr>\n",
       "  </thead>\n",
       "  <tbody>\n",
       "    <tr>\n",
       "      <th>1</th>\n",
       "      <td>MainScreenAppear</td>\n",
       "      <td>2501</td>\n",
       "      <td>0.983871</td>\n",
       "    </tr>\n",
       "    <tr>\n",
       "      <th>2</th>\n",
       "      <td>OffersScreenAppear</td>\n",
       "      <td>1538</td>\n",
       "      <td>0.605035</td>\n",
       "    </tr>\n",
       "    <tr>\n",
       "      <th>0</th>\n",
       "      <td>CartScreenAppear</td>\n",
       "      <td>1239</td>\n",
       "      <td>0.487411</td>\n",
       "    </tr>\n",
       "    <tr>\n",
       "      <th>3</th>\n",
       "      <td>PaymentScreenSuccessful</td>\n",
       "      <td>1185</td>\n",
       "      <td>0.466168</td>\n",
       "    </tr>\n",
       "    <tr>\n",
       "      <th>4</th>\n",
       "      <td>Tutorial</td>\n",
       "      <td>282</td>\n",
       "      <td>0.110936</td>\n",
       "    </tr>\n",
       "  </tbody>\n",
       "</table>\n",
       "</div>"
      ],
      "text/plain": [
       "                     Event  Users Count_248  Proportion of Users_248\n",
       "1         MainScreenAppear             2501                 0.983871\n",
       "2       OffersScreenAppear             1538                 0.605035\n",
       "0         CartScreenAppear             1239                 0.487411\n",
       "3  PaymentScreenSuccessful             1185                 0.466168\n",
       "4                 Tutorial              282                 0.110936"
      ]
     },
     "metadata": {},
     "output_type": "display_data"
    },
    {
     "name": "stdout",
     "output_type": "stream",
     "text": [
      "\n",
      "Users per event in df_246:\n"
     ]
    },
    {
     "data": {
      "text/html": [
       "<div>\n",
       "<style scoped>\n",
       "    .dataframe tbody tr th:only-of-type {\n",
       "        vertical-align: middle;\n",
       "    }\n",
       "\n",
       "    .dataframe tbody tr th {\n",
       "        vertical-align: top;\n",
       "    }\n",
       "\n",
       "    .dataframe thead th {\n",
       "        text-align: right;\n",
       "    }\n",
       "</style>\n",
       "<table border=\"1\" class=\"dataframe\">\n",
       "  <thead>\n",
       "    <tr style=\"text-align: right;\">\n",
       "      <th></th>\n",
       "      <th>Event</th>\n",
       "      <th>Users Count_246</th>\n",
       "      <th>Proportion of Users_246</th>\n",
       "    </tr>\n",
       "  </thead>\n",
       "  <tbody>\n",
       "    <tr>\n",
       "      <th>1</th>\n",
       "      <td>MainScreenAppear</td>\n",
       "      <td>2456</td>\n",
       "      <td>0.986742</td>\n",
       "    </tr>\n",
       "    <tr>\n",
       "      <th>2</th>\n",
       "      <td>OffersScreenAppear</td>\n",
       "      <td>1545</td>\n",
       "      <td>0.620731</td>\n",
       "    </tr>\n",
       "    <tr>\n",
       "      <th>0</th>\n",
       "      <td>CartScreenAppear</td>\n",
       "      <td>1270</td>\n",
       "      <td>0.510245</td>\n",
       "    </tr>\n",
       "    <tr>\n",
       "      <th>3</th>\n",
       "      <td>PaymentScreenSuccessful</td>\n",
       "      <td>1202</td>\n",
       "      <td>0.482925</td>\n",
       "    </tr>\n",
       "    <tr>\n",
       "      <th>4</th>\n",
       "      <td>Tutorial</td>\n",
       "      <td>279</td>\n",
       "      <td>0.112093</td>\n",
       "    </tr>\n",
       "  </tbody>\n",
       "</table>\n",
       "</div>"
      ],
      "text/plain": [
       "                     Event  Users Count_246  Proportion of Users_246\n",
       "1         MainScreenAppear             2456                 0.986742\n",
       "2       OffersScreenAppear             1545                 0.620731\n",
       "0         CartScreenAppear             1270                 0.510245\n",
       "3  PaymentScreenSuccessful             1202                 0.482925\n",
       "4                 Tutorial              279                 0.112093"
      ]
     },
     "metadata": {},
     "output_type": "display_data"
    }
   ],
   "source": [
    "# Count the number of users who performed each action for df_247\n",
    "users_per_event_247 = df_247.groupby('event_name')['device_id'].nunique()\n",
    "\n",
    "# Create a new DataFrame for df_247 to display the results\n",
    "users_per_event_df_247 = pd.DataFrame({\n",
    "    'Event': users_per_event_247.index,\n",
    "    'Users Count_247': users_per_event_247.values\n",
    "})\n",
    "\n",
    "# Sort the DataFrame by the number of users in descending order\n",
    "users_per_event_df_247 = users_per_event_df_247.sort_values(by='Users Count_247', ascending=False)\n",
    "\n",
    "# Calculate the proportion of users who performed the action at least once for df_247\n",
    "total_users_247 = df_247['device_id'].nunique()\n",
    "users_per_event_df_247['Proportion of Users_247'] = users_per_event_df_247['Users Count_247'] / total_users_247\n",
    "\n",
    "# Display results for df_247\n",
    "print(\"Users per event in df_247:\")\n",
    "display(users_per_event_df_247)\n",
    "\n",
    "# Count the number of users who performed each action for df_248\n",
    "users_per_event_248 = df_248.groupby('event_name')['device_id'].nunique()\n",
    "\n",
    "# Create a new DataFrame for df_248 to display the results\n",
    "users_per_event_df_248 = pd.DataFrame({\n",
    "    'Event': users_per_event_248.index,\n",
    "    'Users Count_248': users_per_event_248.values\n",
    "})\n",
    "\n",
    "# Sort the DataFrame by the number of users in descending order\n",
    "users_per_event_df_248 = users_per_event_df_248.sort_values(by='Users Count_248', ascending=False)\n",
    "\n",
    "# Calculate the proportion of users who performed the action at least once for df_248\n",
    "total_users_248 = df_248['device_id'].nunique()\n",
    "users_per_event_df_248['Proportion of Users_248'] = users_per_event_df_248['Users Count_248'] / total_users_248\n",
    "\n",
    "# Display results for df_248\n",
    "print(\"\\nUsers per event in df_248:\")\n",
    "display(users_per_event_df_248)\n",
    "\n",
    "# Count the number of users who performed each action for df_246\n",
    "users_per_event_246 = df_246.groupby('event_name')['device_id'].nunique()\n",
    "\n",
    "# Create a new DataFrame for df_246 to display the results\n",
    "users_per_event_df_246 = pd.DataFrame({\n",
    "    'Event': users_per_event_246.index,\n",
    "    'Users Count_246': users_per_event_246.values\n",
    "})\n",
    "\n",
    "# Sort the DataFrame by the number of users in descending order\n",
    "users_per_event_df_246 = users_per_event_df_246.sort_values(by='Users Count_246', ascending=False)\n",
    "\n",
    "# Calculate the proportion of users who performed the action at least once for df_246\n",
    "total_users_246 = df_246['device_id'].nunique()\n",
    "users_per_event_df_246['Proportion of Users_246'] = users_per_event_df_246['Users Count_246'] / total_users_246\n",
    "\n",
    "# Display results for df_246\n",
    "print(\"\\nUsers per event in df_246:\")\n",
    "display(users_per_event_df_246)\n",
    "\n"
   ]
  },
  {
   "cell_type": "code",
   "execution_count": 26,
   "metadata": {},
   "outputs": [
    {
     "data": {
      "image/png": "[encoded data removed]",
      "text/plain": [
       "<Figure size 720x432 with 1 Axes>"
      ]
     },
     "metadata": {
      "needs_background": "light"
     },
     "output_type": "display_data"
    },
    {
     "data": {
      "image/png": "[encoded data removed]",
      "text/plain": [
       "<Figure size 720x432 with 1 Axes>"
      ]
     },
     "metadata": {
      "needs_background": "light"
     },
     "output_type": "display_data"
    },
    {
     "data": {
      "image/png": "[encoded data removed]",
      "text/plain": [
       "<Figure size 720x432 with 1 Axes>"
      ]
     },
     "metadata": {
      "needs_background": "light"
     },
     "output_type": "display_data"
    }
   ],
   "source": [
    "import matplotlib.pyplot as plt\n",
    "\n",
    "# Define the order of events for the funnel\n",
    "events_order = ['MainScreenAppear', 'OffersScreenAppear', 'CartScreenAppear', 'PaymentScreenSuccessful', 'Tutorial']\n",
    "\n",
    "# Function to create funnel-like horizontal bar chart for df_247\n",
    "def create_funnel_bar_chart_247(df, title):\n",
    "    df['Event'] = pd.Categorical(df['Event'], categories=events_order, ordered=True)\n",
    "    df = df.sort_values('Event')\n",
    "\n",
    "    plt.figure(figsize=(10, 6))\n",
    "    plt.barh(df['Event'], df['Users Count_247'], color='skyblue')  # Update the column name here\n",
    "    plt.title(title)\n",
    "    plt.xlabel('Number of Users')\n",
    "    plt.ylabel('Event')\n",
    "    plt.show()\n",
    "\n",
    "# Function to create funnel-like horizontal bar chart for df_246\n",
    "def create_funnel_bar_chart_246(df, title):\n",
    "    df['Event'] = pd.Categorical(df['Event'], categories=events_order, ordered=True)\n",
    "    df = df.sort_values('Event')\n",
    "\n",
    "    plt.figure(figsize=(10, 6))\n",
    "    plt.barh(df['Event'], df['Users Count_246'], color='skyblue')  # Update the column name here\n",
    "    plt.title(title)\n",
    "    plt.xlabel('Number of Users')\n",
    "    plt.ylabel('Event')\n",
    "    plt.show()\n",
    "    \n",
    "# Function to create funnel-like horizontal bar chart for df_248\n",
    "def create_funnel_bar_chart_248(df, title):\n",
    "    df['Event'] = pd.Categorical(df['Event'], categories=events_order, ordered=True)\n",
    "    df = df.sort_values('Event')\n",
    "\n",
    "    plt.figure(figsize=(10, 6))\n",
    "    plt.barh(df['Event'], df['Users Count_248'], color='skyblue')  # Update the column name here\n",
    "    plt.title(title)\n",
    "    plt.xlabel('Number of Users')\n",
    "    plt.ylabel('Event')\n",
    "    plt.show()    \n",
    "    \n",
    "# Create funnel-like horizontal bar charts for df_247, df_248, and df_246\n",
    "create_funnel_bar_chart_247(users_per_event_df_247, title='Funnel Chart - Users Progression Through Events (df_247)')\n",
    "create_funnel_bar_chart_248(users_per_event_df_248, title='Funnel Chart - Users Progression Through Events (df_248)')\n",
    "create_funnel_bar_chart_246(users_per_event_df_246, title='Funnel Chart - Users Progression Through Events (df_246)')"
   ]
  },
  {
   "cell_type": "markdown",
   "metadata": {},
   "source": [
    "### In what order do you think the actions took place. Are all of them part of a single sequence? "
   ]
  },
  {
   "cell_type": "markdown",
   "metadata": {},
   "source": [
    "The Sequence to place in the order of the of the user count: \n",
    "\n",
    "* Main Screen Appear\n",
    "* Offers Screen Appear\n",
    "* Cart Screen Appear\n",
    "* Payment Screen Successful\n",
    "* Tutorial\n",
    "\n",
    "This is the logical sequence of event is a turorial online purchase"
   ]
  },
  {
   "cell_type": "markdown",
   "metadata": {},
   "source": [
    "### Use the event funnel to find the share of users that proceed from each stage to the next. (For instance, for the sequence of events A → B → C, calculate the ratio of users at stage B to the number of users at stage A and the ratio of users at stage C to the number at stage B.)"
   ]
  },
  {
   "cell_type": "code",
   "execution_count": 27,
   "metadata": {},
   "outputs": [
    {
     "data": {
      "text/html": [
       "<div>\n",
       "<style scoped>\n",
       "    .dataframe tbody tr th:only-of-type {\n",
       "        vertical-align: middle;\n",
       "    }\n",
       "\n",
       "    .dataframe tbody tr th {\n",
       "        vertical-align: top;\n",
       "    }\n",
       "\n",
       "    .dataframe thead th {\n",
       "        text-align: right;\n",
       "    }\n",
       "</style>\n",
       "<table border=\"1\" class=\"dataframe\">\n",
       "  <thead>\n",
       "    <tr style=\"text-align: right;\">\n",
       "      <th></th>\n",
       "      <th>Event</th>\n",
       "      <th>Users Count</th>\n",
       "      <th>Conversion Rate</th>\n",
       "    </tr>\n",
       "  </thead>\n",
       "  <tbody>\n",
       "    <tr>\n",
       "      <th>0</th>\n",
       "      <td>MainScreenAppear</td>\n",
       "      <td>7439</td>\n",
       "      <td>NaN</td>\n",
       "    </tr>\n",
       "    <tr>\n",
       "      <th>1</th>\n",
       "      <td>OffersScreenAppear</td>\n",
       "      <td>4613</td>\n",
       "      <td>0.620110</td>\n",
       "    </tr>\n",
       "    <tr>\n",
       "      <th>2</th>\n",
       "      <td>CartScreenAppear</td>\n",
       "      <td>3749</td>\n",
       "      <td>0.812703</td>\n",
       "    </tr>\n",
       "    <tr>\n",
       "      <th>3</th>\n",
       "      <td>PaymentScreenSuccessful</td>\n",
       "      <td>3547</td>\n",
       "      <td>0.946119</td>\n",
       "    </tr>\n",
       "    <tr>\n",
       "      <th>4</th>\n",
       "      <td>Tutorial</td>\n",
       "      <td>847</td>\n",
       "      <td>0.238793</td>\n",
       "    </tr>\n",
       "  </tbody>\n",
       "</table>\n",
       "</div>"
      ],
      "text/plain": [
       "                     Event  Users Count  Conversion Rate\n",
       "0         MainScreenAppear         7439              NaN\n",
       "1       OffersScreenAppear         4613         0.620110\n",
       "2         CartScreenAppear         3749         0.812703\n",
       "3  PaymentScreenSuccessful         3547         0.946119\n",
       "4                 Tutorial          847         0.238793"
      ]
     },
     "execution_count": 27,
     "metadata": {},
     "output_type": "execute_result"
    }
   ],
   "source": [
    "# Define the logical sequence of events\n",
    "events_order = ['MainScreenAppear', 'OffersScreenAppear', 'CartScreenAppear', 'PaymentScreenSuccessful', 'Tutorial']\n",
    "\n",
    "# Sorting the DataFrame based on the logical order of events\n",
    "df['event_name'] = pd.Categorical(df['event_name'], categories=events_order, ordered=True)\n",
    "df = df.sort_values('event_name')\n",
    "\n",
    "# Calculate the number of users at each stage\n",
    "users_per_event = df.groupby('event_name')['device_id'].nunique()\n",
    "\n",
    "# Calculate the conversion rates\n",
    "conversion_rates = users_per_event / users_per_event.shift(1)\n",
    "\n",
    "# Create a DataFrame to display the results\n",
    "conversion_df = pd.DataFrame({\n",
    "    'Event': users_per_event.index,\n",
    "    'Users Count': users_per_event.values,\n",
    "    'Conversion Rate': conversion_rates.values\n",
    "})\n",
    "\n",
    "# Display the result\n",
    "conversion_df"
   ]
  },
  {
   "cell_type": "code",
   "execution_count": 28,
   "metadata": {},
   "outputs": [
    {
     "data": {
      "image/png": "[encoded data removed]",
      "text/plain": [
       "<Figure size 720x432 with 1 Axes>"
      ]
     },
     "metadata": {
      "needs_background": "light"
     },
     "output_type": "display_data"
    }
   ],
   "source": [
    "# Create a bar chart for conversion rates\n",
    "plt.figure(figsize=(10, 6))\n",
    "plt.bar(conversion_df['Event'], conversion_df['Conversion Rate'], color='skyblue')\n",
    "plt.title('Conversion Rates Between Events')\n",
    "plt.xlabel('Event')\n",
    "plt.ylabel('Conversion Rate')\n",
    "plt.ylim(0, 1) \n",
    "plt.show()"
   ]
  },
  {
   "cell_type": "markdown",
   "metadata": {},
   "source": [
    "### At what stage do you lose the most users?"
   ]
  },
  {
   "cell_type": "code",
   "execution_count": 29,
   "metadata": {},
   "outputs": [
    {
     "data": {
      "text/html": [
       "<div>\n",
       "<style scoped>\n",
       "    .dataframe tbody tr th:only-of-type {\n",
       "        vertical-align: middle;\n",
       "    }\n",
       "\n",
       "    .dataframe tbody tr th {\n",
       "        vertical-align: top;\n",
       "    }\n",
       "\n",
       "    .dataframe thead th {\n",
       "        text-align: right;\n",
       "    }\n",
       "</style>\n",
       "<table border=\"1\" class=\"dataframe\">\n",
       "  <thead>\n",
       "    <tr style=\"text-align: right;\">\n",
       "      <th></th>\n",
       "      <th>Event</th>\n",
       "      <th>Users Count</th>\n",
       "      <th>Conversion Rate</th>\n",
       "    </tr>\n",
       "  </thead>\n",
       "  <tbody>\n",
       "    <tr>\n",
       "      <th>0</th>\n",
       "      <td>MainScreenAppear</td>\n",
       "      <td>7439</td>\n",
       "      <td>NaN</td>\n",
       "    </tr>\n",
       "    <tr>\n",
       "      <th>1</th>\n",
       "      <td>OffersScreenAppear</td>\n",
       "      <td>4613</td>\n",
       "      <td>0.620110</td>\n",
       "    </tr>\n",
       "    <tr>\n",
       "      <th>2</th>\n",
       "      <td>CartScreenAppear</td>\n",
       "      <td>3749</td>\n",
       "      <td>0.812703</td>\n",
       "    </tr>\n",
       "    <tr>\n",
       "      <th>3</th>\n",
       "      <td>PaymentScreenSuccessful</td>\n",
       "      <td>3547</td>\n",
       "      <td>0.946119</td>\n",
       "    </tr>\n",
       "    <tr>\n",
       "      <th>4</th>\n",
       "      <td>Tutorial</td>\n",
       "      <td>847</td>\n",
       "      <td>0.238793</td>\n",
       "    </tr>\n",
       "  </tbody>\n",
       "</table>\n",
       "</div>"
      ],
      "text/plain": [
       "                     Event  Users Count  Conversion Rate\n",
       "0         MainScreenAppear         7439              NaN\n",
       "1       OffersScreenAppear         4613         0.620110\n",
       "2         CartScreenAppear         3749         0.812703\n",
       "3  PaymentScreenSuccessful         3547         0.946119\n",
       "4                 Tutorial          847         0.238793"
      ]
     },
     "execution_count": 29,
     "metadata": {},
     "output_type": "execute_result"
    }
   ],
   "source": [
    "conversion_df"
   ]
  },
  {
   "cell_type": "code",
   "execution_count": 30,
   "metadata": {},
   "outputs": [
    {
     "data": {
      "text/html": [
       "<div>\n",
       "<style scoped>\n",
       "    .dataframe tbody tr th:only-of-type {\n",
       "        vertical-align: middle;\n",
       "    }\n",
       "\n",
       "    .dataframe tbody tr th {\n",
       "        vertical-align: top;\n",
       "    }\n",
       "\n",
       "    .dataframe thead th {\n",
       "        text-align: right;\n",
       "    }\n",
       "</style>\n",
       "<table border=\"1\" class=\"dataframe\">\n",
       "  <thead>\n",
       "    <tr style=\"text-align: right;\">\n",
       "      <th></th>\n",
       "      <th>Event</th>\n",
       "      <th>Users Count</th>\n",
       "      <th>Conversion Rate</th>\n",
       "      <th>User Loss</th>\n",
       "    </tr>\n",
       "  </thead>\n",
       "  <tbody>\n",
       "    <tr>\n",
       "      <th>0</th>\n",
       "      <td>MainScreenAppear</td>\n",
       "      <td>7439</td>\n",
       "      <td>NaN</td>\n",
       "      <td>NaN</td>\n",
       "    </tr>\n",
       "    <tr>\n",
       "      <th>1</th>\n",
       "      <td>OffersScreenAppear</td>\n",
       "      <td>4613</td>\n",
       "      <td>0.620110</td>\n",
       "      <td>0.379890</td>\n",
       "    </tr>\n",
       "    <tr>\n",
       "      <th>2</th>\n",
       "      <td>CartScreenAppear</td>\n",
       "      <td>3749</td>\n",
       "      <td>0.812703</td>\n",
       "      <td>0.187297</td>\n",
       "    </tr>\n",
       "    <tr>\n",
       "      <th>3</th>\n",
       "      <td>PaymentScreenSuccessful</td>\n",
       "      <td>3547</td>\n",
       "      <td>0.946119</td>\n",
       "      <td>0.053881</td>\n",
       "    </tr>\n",
       "    <tr>\n",
       "      <th>4</th>\n",
       "      <td>Tutorial</td>\n",
       "      <td>847</td>\n",
       "      <td>0.238793</td>\n",
       "      <td>0.761207</td>\n",
       "    </tr>\n",
       "  </tbody>\n",
       "</table>\n",
       "</div>"
      ],
      "text/plain": [
       "                     Event  Users Count  Conversion Rate  User Loss\n",
       "0         MainScreenAppear         7439              NaN        NaN\n",
       "1       OffersScreenAppear         4613         0.620110   0.379890\n",
       "2         CartScreenAppear         3749         0.812703   0.187297\n",
       "3  PaymentScreenSuccessful         3547         0.946119   0.053881\n",
       "4                 Tutorial          847         0.238793   0.761207"
      ]
     },
     "execution_count": 30,
     "metadata": {},
     "output_type": "execute_result"
    }
   ],
   "source": [
    "# Create a new column for user loss\n",
    "conversion_df['User Loss'] = 1 - conversion_df['Conversion Rate']\n",
    "\n",
    "# Display the updated DataFrame\n",
    "conversion_df"
   ]
  },
  {
   "cell_type": "markdown",
   "metadata": {},
   "source": [
    "The stage from \"MainScreenAppear\" to \"OffersScreenAppear\" is where most of the users are lost"
   ]
  },
  {
   "cell_type": "markdown",
   "metadata": {},
   "source": [
    "### What share of users make the entire journey from their first event to payment?"
   ]
  },
  {
   "cell_type": "code",
   "execution_count": 31,
   "metadata": {
    "scrolled": true
   },
   "outputs": [
    {
     "name": "stdout",
     "output_type": "stream",
     "text": [
      "Percentage of users from MainScreenAppear to Tutorial: 11.39%\n"
     ]
    }
   ],
   "source": [
    "# Given values\n",
    "users_count_tutorial = 847\n",
    "users_count_main_screen = 7439\n",
    "\n",
    "# Calculate the percentage\n",
    "percentage_tutorial_to_main_screen = (users_count_tutorial / users_count_main_screen) * 100\n",
    "\n",
    "# Display the result\n",
    "print(f\"Percentage of users from MainScreenAppear to Tutorial: {percentage_tutorial_to_main_screen:.2f}%\")"
   ]
  },
  {
   "cell_type": "markdown",
   "metadata": {},
   "source": [
    "## Step 5. Study the results of the experiment"
   ]
  },
  {
   "cell_type": "markdown",
   "metadata": {},
   "source": [
    "### How many users are there in each group?"
   ]
  },
  {
   "cell_type": "code",
   "execution_count": 32,
   "metadata": {},
   "outputs": [
    {
     "data": {
      "text/plain": [
       "experiment_id\n",
       "246    2489\n",
       "247    2520\n",
       "248    2542\n",
       "Name: device_id, dtype: int64"
      ]
     },
     "execution_count": 32,
     "metadata": {},
     "output_type": "execute_result"
    }
   ],
   "source": [
    "#Count number in each experiment group\n",
    "user_counts = df.groupby('experiment_id')['device_id'].nunique()\n",
    "user_counts"
   ]
  },
  {
   "cell_type": "markdown",
   "metadata": {},
   "source": [
    "**Users in each grou**\n",
    "\n",
    "* Experiment Group 246 has 2,489 unique users.\n",
    "* Experiment Group 247 has 2,520 unique users.\n",
    "* Experiment Group 248 has 2,542 unique users."
   ]
  },
  {
   "cell_type": "markdown",
   "metadata": {},
   "source": [
    "### We have two control groups in the A/A test, where we check our mechanisms and calculations. See if there is a statistically significant difference between samples 246 and 247."
   ]
  },
  {
   "cell_type": "markdown",
   "metadata": {},
   "source": [
    "**The statistical test**\n",
    "\n",
    "The statistical test goes about testing which hypothesis is true or which applies to the dataset A t-test is a statistical hypothesis test used to determine if there is a significant difference between the means of two groups or populations. For a two-sample t-test. This test calculates a t-statistic and a p-value to help you decide whether to reject the null hypothesis.\n",
    "\n",
    "**The Hypothesis**\n",
    "\n",
    "- Null Hypothesis (H0): There is no significant difference between the average number of unique users in control groups 246 and 247.\n",
    "\n",
    "- Alternative Hypothesis (H1): There is a significant difference between the average number of unique users in control groups 246 and 247."
   ]
  },
  {
   "cell_type": "code",
   "execution_count": 33,
   "metadata": {},
   "outputs": [
    {
     "name": "stdout",
     "output_type": "stream",
     "text": [
      "T-statistic: -10.347920410673469\n",
      "P-value: 4.356389833881039e-25\n"
     ]
    }
   ],
   "source": [
    "# Extract data for control groups 246 and 247\n",
    "group_246 = df[df['experiment_id'] == 246]['device_id']\n",
    "group_247 = df[df['experiment_id'] == 247]['device_id']\n",
    "\n",
    "# Perform t-test\n",
    "t_statistic, p_value = ttest_ind(group_246, group_247, equal_var=False)\n",
    "\n",
    "# Print results\n",
    "print(f'T-statistic: {t_statistic}')\n",
    "print(f'P-value: {p_value}')"
   ]
  },
  {
   "cell_type": "markdown",
   "metadata": {},
   "source": [
    "The P-value is very small and we can therefore reject the null hypothesis. \n",
    "\n",
    "**Conclusion**\n",
    "\n",
    "There is a statistically significant difference between control groups 246 and 247 "
   ]
  },
  {
   "cell_type": "markdown",
   "metadata": {},
   "source": [
    "### Select the most popular event. In each of the control groups, find the number of users who performed this action. Find their share. Check whether the difference between the groups is statistically significant. Repeat the procedure for all other events (it will save time if you create a special function for this test). Can you confirm that the groups were split properly?"
   ]
  },
  {
   "cell_type": "code",
   "execution_count": 34,
   "metadata": {},
   "outputs": [
    {
     "name": "stdout",
     "output_type": "stream",
     "text": [
      "Event: MainScreenAppear\n",
      "T-statistic: -4.280696655637785\n",
      "P-value: 1.8653203413000317e-05\n",
      "The difference is statistically significant.\n",
      "\n",
      "\n",
      "Event: OffersScreenAppear\n",
      "T-statistic: -9.312842724277417\n",
      "P-value: 1.3267504197519732e-20\n",
      "The difference is statistically significant.\n",
      "\n",
      "\n",
      "Event: CartScreenAppear\n",
      "T-statistic: -4.236481026746446\n",
      "P-value: 2.2779223383582763e-05\n",
      "The difference is statistically significant.\n",
      "\n",
      "\n",
      "Event: PaymentScreenSuccessful\n",
      "T-statistic: -2.759475557342649\n",
      "P-value: 0.005794198634693325\n",
      "The difference is statistically significant.\n",
      "\n",
      "\n",
      "Event: Tutorial\n",
      "T-statistic: 0.04640786462103255\n",
      "P-value: 0.9629992675232146\n",
      "The difference is not statistically significant.\n",
      "\n",
      "\n"
     ]
    }
   ],
   "source": [
    "def analyze_event(df, event_name, group1_id, group2_id):\n",
    "    # Extract data for the event in each control group\n",
    "    group1_event = df[(df['experiment_id'] == group1_id) & (df['event_name'] == event_name)]['device_id']\n",
    "    group2_event = df[(df['experiment_id'] == group2_id) & (df['event_name'] == event_name)]['device_id']\n",
    "\n",
    "    # Perform t-test\n",
    "    t_statistic, p_value = ttest_ind(group1_event, group2_event, equal_var=False)\n",
    "\n",
    "    # Print results\n",
    "    print(f'Event: {event_name}')\n",
    "    print(f'T-statistic: {t_statistic}')\n",
    "    print(f'P-value: {p_value}')\n",
    "\n",
    "    # Check if the difference is statistically significant\n",
    "    if p_value < 0.05:\n",
    "        print(\"The difference is statistically significant.\")\n",
    "    else:\n",
    "        print(\"The difference is not statistically significant.\")\n",
    "\n",
    "# Get unique event names\n",
    "unique_events = df['event_name'].unique()\n",
    "\n",
    "# Loop through all events and analyze them\n",
    "for event in unique_events:\n",
    "    analyze_event(df, event, 246, 247)\n",
    "    print(\"\\n\")"
   ]
  },
  {
   "cell_type": "markdown",
   "metadata": {},
   "source": [
    "### Do the same thing for the group with altered fonts. Compare the results with those of each of the control groups for each event in isolation. Compare the results with the combined results for the control groups. What conclusions can you draw from the experiment?"
   ]
  },
  {
   "cell_type": "code",
   "execution_count": 35,
   "metadata": {},
   "outputs": [
    {
     "name": "stdout",
     "output_type": "stream",
     "text": [
      "\n",
      "Comparing Altered Fonts Group (248) with Control Group 246 for MainScreenAppear:\n",
      "Event: MainScreenAppear\n",
      "T-statistic: 1.273803350844698\n",
      "P-value: 0.2027368723043473\n",
      "The difference is not statistically significant.\n",
      "\n",
      "Comparing Altered Fonts Group (248) with Control Group 247 for MainScreenAppear:\n",
      "Event: MainScreenAppear\n",
      "T-statistic: 5.699432220315091\n",
      "P-value: 1.2062384423734582e-08\n",
      "The difference is statistically significant.\n",
      "\n",
      "\n",
      "\n",
      "Comparing Altered Fonts Group (248) with Control Group 246 for OffersScreenAppear:\n",
      "Event: OffersScreenAppear\n",
      "T-statistic: -9.671085533578262\n",
      "P-value: 4.303870628895964e-22\n",
      "The difference is statistically significant.\n",
      "\n",
      "Comparing Altered Fonts Group (248) with Control Group 247 for OffersScreenAppear:\n",
      "Event: OffersScreenAppear\n",
      "T-statistic: -0.16116255699005724\n",
      "P-value: 0.8719663985238744\n",
      "The difference is not statistically significant.\n",
      "\n",
      "\n",
      "\n",
      "Comparing Altered Fonts Group (248) with Control Group 246 for CartScreenAppear:\n",
      "Event: CartScreenAppear\n",
      "T-statistic: -5.9931780959547405\n",
      "P-value: 2.0818008045689402e-09\n",
      "The difference is statistically significant.\n",
      "\n",
      "Comparing Altered Fonts Group (248) with Control Group 247 for CartScreenAppear:\n",
      "Event: CartScreenAppear\n",
      "T-statistic: -1.6082988704167374\n",
      "P-value: 0.10778150419440106\n",
      "The difference is not statistically significant.\n",
      "\n",
      "\n",
      "\n",
      "Comparing Altered Fonts Group (248) with Control Group 246 for PaymentScreenSuccessful:\n",
      "Event: PaymentScreenSuccessful\n",
      "T-statistic: -5.322978711685487\n",
      "P-value: 1.030165203413173e-07\n",
      "The difference is statistically significant.\n",
      "\n",
      "Comparing Altered Fonts Group (248) with Control Group 247 for PaymentScreenSuccessful:\n",
      "Event: PaymentScreenSuccessful\n",
      "T-statistic: -2.505945270525484\n",
      "P-value: 0.012219791526134225\n",
      "The difference is statistically significant.\n",
      "\n",
      "\n",
      "\n",
      "Comparing Altered Fonts Group (248) with Control Group 246 for Tutorial:\n",
      "Event: Tutorial\n",
      "T-statistic: -0.14997166430445827\n",
      "P-value: 0.8808321639865343\n",
      "The difference is not statistically significant.\n",
      "\n",
      "Comparing Altered Fonts Group (248) with Control Group 247 for Tutorial:\n",
      "Event: Tutorial\n",
      "T-statistic: -0.20920719761089132\n",
      "P-value: 0.8343454245665749\n",
      "The difference is not statistically significant.\n",
      "\n",
      "\n",
      "\n",
      "Combined results for Control Groups 246 and 247:\n",
      "Event: MainScreenAppear\n",
      "T-statistic: -4.280696655637785\n",
      "P-value: 1.8653203413000317e-05\n",
      "The difference is statistically significant.\n",
      "\n",
      "\n",
      "Event: OffersScreenAppear\n",
      "T-statistic: -9.312842724277417\n",
      "P-value: 1.3267504197519732e-20\n",
      "The difference is statistically significant.\n",
      "\n",
      "\n",
      "Event: CartScreenAppear\n",
      "T-statistic: -4.236481026746446\n",
      "P-value: 2.2779223383582763e-05\n",
      "The difference is statistically significant.\n",
      "\n",
      "\n",
      "Event: PaymentScreenSuccessful\n",
      "T-statistic: -2.759475557342649\n",
      "P-value: 0.005794198634693325\n",
      "The difference is statistically significant.\n",
      "\n",
      "\n",
      "Event: Tutorial\n",
      "T-statistic: 0.04640786462103255\n",
      "P-value: 0.9629992675232146\n",
      "The difference is not statistically significant.\n",
      "\n",
      "\n"
     ]
    }
   ],
   "source": [
    "def analyze_event(df, event_name, group1_id, group2_id):\n",
    "    # Extract data for the event in each group\n",
    "    group1_event = df[(df['experiment_id'] == group1_id) & (df['event_name'] == event_name)]['device_id']\n",
    "    group2_event = df[(df['experiment_id'] == group2_id) & (df['event_name'] == event_name)]['device_id']\n",
    "\n",
    "    # Perform t-test\n",
    "    t_statistic, p_value = ttest_ind(group1_event, group2_event, equal_var=False)\n",
    "\n",
    "    # Print results\n",
    "    print(f'Event: {event_name}')\n",
    "    print(f'T-statistic: {t_statistic}')\n",
    "    print(f'P-value: {p_value}')\n",
    "\n",
    "    # Check if the difference is statistically significant\n",
    "    if p_value < 0.05:\n",
    "        print(\"The difference is statistically significant.\")\n",
    "    else:\n",
    "        print(\"The difference is not statistically significant.\")\n",
    "\n",
    "# Get unique event names\n",
    "unique_events = df['event_name'].unique()\n",
    "\n",
    "# Compare altered fonts group (248) with each control group (246 and 247)\n",
    "for event in unique_events:\n",
    "    print(f\"\\nComparing Altered Fonts Group (248) with Control Group 246 for {event}:\")\n",
    "    analyze_event(df, event, 246, 248)\n",
    "\n",
    "    print(f\"\\nComparing Altered Fonts Group (248) with Control Group 247 for {event}:\")\n",
    "    analyze_event(df, event, 247, 248)\n",
    "    print(\"\\n\")\n",
    "\n",
    "# Compare the combined results for control groups 246 and 247\n",
    "print(\"\\nCombined results for Control Groups 246 and 247:\")\n",
    "for event in unique_events:\n",
    "    analyze_event(df, event, 246, 247)\n",
    "    print(\"\\n\")\n"
   ]
  },
  {
   "cell_type": "markdown",
   "metadata": {},
   "source": [
    "### What significance level have you set to test the statistical hypotheses mentioned above? Calculate how many statistical hypothesis tests you carried out. With a statistical significance level of 0.1, one in 10 results could be false. What should the significance level be? If you want to change it, run through the previous steps again and check your conclusions."
   ]
  },
  {
   "cell_type": "markdown",
   "metadata": {},
   "source": [
    "**The Alpha Value (Significance Level)**\n",
    "\n",
    "Is the probability of obtaioning a particular value \n",
    "\n",
    "- often denoted as α, \n",
    "- is the chosen threshold that determines the level of significance in a hypothesis test\n",
    "- It represents the maximum acceptable probability of making a Type I error (rejection of  the null hypothesis)\n",
    "- Common alpha values include 0.05 (5%) or 0.01 (1%) \n",
    "\n",
    "The significance level (alpha) is set to **0.05 / (5%) ** , which is a common choice in statistical hypothesis testing."
   ]
  },
  {
   "cell_type": "code",
   "execution_count": 36,
   "metadata": {},
   "outputs": [
    {
     "name": "stdout",
     "output_type": "stream",
     "text": [
      "Number of unique events: 5\n",
      "Number of group comparisons: 4\n",
      "Total number of tests: 20\n"
     ]
    }
   ],
   "source": [
    "# Count the number of unique events\n",
    "num_unique_events = len(df['event_name'].unique())\n",
    "\n",
    "# Count the number of group comparisons\n",
    "num_group_comparisons = 2 * (len(df['experiment_id'].unique()) - 1)\n",
    "\n",
    "# Calculate the total number of tests\n",
    "total_tests = num_unique_events * num_group_comparisons\n",
    "\n",
    "print(f\"Number of unique events: {num_unique_events}\")\n",
    "print(f\"Number of group comparisons: {num_group_comparisons}\")\n",
    "print(f\"Total number of tests: {total_tests}\")"
   ]
  },
  {
   "cell_type": "markdown",
   "metadata": {},
   "source": [
    "**Rerunning tests with  significance level/alpha = 0.1**"
   ]
  },
  {
   "cell_type": "markdown",
   "metadata": {},
   "source": [
    "#### Select the most popular event. In each of the control groups, find the number of users who performed this action. Find their share. Check whether the difference between the groups is statistically significant. "
   ]
  },
  {
   "cell_type": "code",
   "execution_count": 37,
   "metadata": {},
   "outputs": [
    {
     "name": "stdout",
     "output_type": "stream",
     "text": [
      "Event: MainScreenAppear\n",
      "T-statistic: -4.280696655637785\n",
      "P-value: 1.8653203413000317e-05\n",
      "The difference is statistically significant.\n",
      "\n",
      "\n",
      "Event: OffersScreenAppear\n",
      "T-statistic: -9.312842724277417\n",
      "P-value: 1.3267504197519732e-20\n",
      "The difference is statistically significant.\n",
      "\n",
      "\n",
      "Event: CartScreenAppear\n",
      "T-statistic: -4.236481026746446\n",
      "P-value: 2.2779223383582763e-05\n",
      "The difference is statistically significant.\n",
      "\n",
      "\n",
      "Event: PaymentScreenSuccessful\n",
      "T-statistic: -2.759475557342649\n",
      "P-value: 0.005794198634693325\n",
      "The difference is statistically significant.\n",
      "\n",
      "\n",
      "Event: Tutorial\n",
      "T-statistic: 0.04640786462103255\n",
      "P-value: 0.9629992675232146\n",
      "The difference is not statistically significant.\n",
      "\n",
      "\n"
     ]
    }
   ],
   "source": [
    "def analyze_event(df, event_name, group1_id, group2_id):\n",
    "    # Extract data for the event in each control group\n",
    "    group1_event = df[(df['experiment_id'] == group1_id) & (df['event_name'] == event_name)]['device_id']\n",
    "    group2_event = df[(df['experiment_id'] == group2_id) & (df['event_name'] == event_name)]['device_id']\n",
    "\n",
    "    # Perform t-test\n",
    "    t_statistic, p_value = ttest_ind(group1_event, group2_event, equal_var=False)\n",
    "\n",
    "    # Print results\n",
    "    print(f'Event: {event_name}')\n",
    "    print(f'T-statistic: {t_statistic}')\n",
    "    print(f'P-value: {p_value}')\n",
    "\n",
    "    # Check if the difference is statistically significant\n",
    "    if p_value < 0.01:\n",
    "        print(\"The difference is statistically significant.\")\n",
    "    else:\n",
    "        print(\"The difference is not statistically significant.\")\n",
    "\n",
    "# Get unique event names\n",
    "unique_events = df['event_name'].unique()\n",
    "\n",
    "# Loop through all events and analyze them\n",
    "for event in unique_events:\n",
    "    analyze_event(df, event, 246, 247)\n",
    "    print(\"\\n\")"
   ]
  },
  {
   "cell_type": "markdown",
   "metadata": {},
   "source": [
    "#### Do the same thing for the group with altered fonts. Compare the results with those of each of the control groups for each event in isolation. "
   ]
  },
  {
   "cell_type": "code",
   "execution_count": 38,
   "metadata": {},
   "outputs": [
    {
     "name": "stdout",
     "output_type": "stream",
     "text": [
      "\n",
      "Comparing Altered Fonts Group (248) with Control Group 246 for MainScreenAppear:\n",
      "Event: MainScreenAppear\n",
      "T-statistic: 1.273803350844698\n",
      "P-value: 0.2027368723043473\n",
      "The difference is not statistically significant.\n",
      "\n",
      "Comparing Altered Fonts Group (248) with Control Group 247 for MainScreenAppear:\n",
      "Event: MainScreenAppear\n",
      "T-statistic: 5.699432220315091\n",
      "P-value: 1.2062384423734582e-08\n",
      "The difference is statistically significant.\n",
      "\n",
      "\n",
      "\n",
      "Comparing Altered Fonts Group (248) with Control Group 246 for OffersScreenAppear:\n",
      "Event: OffersScreenAppear\n",
      "T-statistic: -9.671085533578262\n",
      "P-value: 4.303870628895964e-22\n",
      "The difference is statistically significant.\n",
      "\n",
      "Comparing Altered Fonts Group (248) with Control Group 247 for OffersScreenAppear:\n",
      "Event: OffersScreenAppear\n",
      "T-statistic: -0.16116255699005724\n",
      "P-value: 0.8719663985238744\n",
      "The difference is not statistically significant.\n",
      "\n",
      "\n",
      "\n",
      "Comparing Altered Fonts Group (248) with Control Group 246 for CartScreenAppear:\n",
      "Event: CartScreenAppear\n",
      "T-statistic: -5.9931780959547405\n",
      "P-value: 2.0818008045689402e-09\n",
      "The difference is statistically significant.\n",
      "\n",
      "Comparing Altered Fonts Group (248) with Control Group 247 for CartScreenAppear:\n",
      "Event: CartScreenAppear\n",
      "T-statistic: -1.6082988704167374\n",
      "P-value: 0.10778150419440106\n",
      "The difference is not statistically significant.\n",
      "\n",
      "\n",
      "\n",
      "Comparing Altered Fonts Group (248) with Control Group 246 for PaymentScreenSuccessful:\n",
      "Event: PaymentScreenSuccessful\n",
      "T-statistic: -5.322978711685487\n",
      "P-value: 1.030165203413173e-07\n",
      "The difference is statistically significant.\n",
      "\n",
      "Comparing Altered Fonts Group (248) with Control Group 247 for PaymentScreenSuccessful:\n",
      "Event: PaymentScreenSuccessful\n",
      "T-statistic: -2.505945270525484\n",
      "P-value: 0.012219791526134225\n",
      "The difference is statistically significant.\n",
      "\n",
      "\n",
      "\n",
      "Comparing Altered Fonts Group (248) with Control Group 246 for Tutorial:\n",
      "Event: Tutorial\n",
      "T-statistic: -0.14997166430445827\n",
      "P-value: 0.8808321639865343\n",
      "The difference is not statistically significant.\n",
      "\n",
      "Comparing Altered Fonts Group (248) with Control Group 247 for Tutorial:\n",
      "Event: Tutorial\n",
      "T-statistic: -0.20920719761089132\n",
      "P-value: 0.8343454245665749\n",
      "The difference is not statistically significant.\n",
      "\n",
      "\n",
      "\n",
      "Combined results for Control Groups 246 and 247:\n",
      "Event: MainScreenAppear\n",
      "T-statistic: -4.280696655637785\n",
      "P-value: 1.8653203413000317e-05\n",
      "The difference is statistically significant.\n",
      "\n",
      "\n",
      "Event: OffersScreenAppear\n",
      "T-statistic: -9.312842724277417\n",
      "P-value: 1.3267504197519732e-20\n",
      "The difference is statistically significant.\n",
      "\n",
      "\n",
      "Event: CartScreenAppear\n",
      "T-statistic: -4.236481026746446\n",
      "P-value: 2.2779223383582763e-05\n",
      "The difference is statistically significant.\n",
      "\n",
      "\n",
      "Event: PaymentScreenSuccessful\n",
      "T-statistic: -2.759475557342649\n",
      "P-value: 0.005794198634693325\n",
      "The difference is statistically significant.\n",
      "\n",
      "\n",
      "Event: Tutorial\n",
      "T-statistic: 0.04640786462103255\n",
      "P-value: 0.9629992675232146\n",
      "The difference is not statistically significant.\n",
      "\n",
      "\n"
     ]
    }
   ],
   "source": [
    "def analyze_event(df, event_name, group1_id, group2_id):\n",
    "    # Extract data for the event in each group\n",
    "    group1_event = df[(df['experiment_id'] == group1_id) & (df['event_name'] == event_name)]['device_id']\n",
    "    group2_event = df[(df['experiment_id'] == group2_id) & (df['event_name'] == event_name)]['device_id']\n",
    "\n",
    "    # Perform t-test\n",
    "    t_statistic, p_value = ttest_ind(group1_event, group2_event, equal_var=False)\n",
    "\n",
    "    # Print results\n",
    "    print(f'Event: {event_name}')\n",
    "    print(f'T-statistic: {t_statistic}')\n",
    "    print(f'P-value: {p_value}')\n",
    "\n",
    "    # Check if the difference is statistically significant\n",
    "    if p_value < 0.05:\n",
    "        print(\"The difference is statistically significant.\")\n",
    "    else:\n",
    "        print(\"The difference is not statistically significant.\")\n",
    "\n",
    "# Get unique event names\n",
    "unique_events = df['event_name'].unique()\n",
    "\n",
    "# Compare altered fonts group (248) with each control group (246 and 247)\n",
    "for event in unique_events:\n",
    "    print(f\"\\nComparing Altered Fonts Group (248) with Control Group 246 for {event}:\")\n",
    "    analyze_event(df, event, 246, 248)\n",
    "\n",
    "    print(f\"\\nComparing Altered Fonts Group (248) with Control Group 247 for {event}:\")\n",
    "    analyze_event(df, event, 247, 248)\n",
    "    print(\"\\n\")\n",
    "\n",
    "# Compare the combined results for control groups 246 and 247\n",
    "print(\"\\nCombined results for Control Groups 246 and 247:\")\n",
    "for event in unique_events:\n",
    "    analyze_event(df, event, 246, 247)\n",
    "    print(\"\\n\")\n"
   ]
  },
  {
   "cell_type": "markdown",
   "metadata": {},
   "source": [
    "**Create a table comparison of the results of Aphla 0.05 and 0.01**"
   ]
  },
  {
   "cell_type": "code",
   "execution_count": 39,
   "metadata": {
    "scrolled": true
   },
   "outputs": [
    {
     "data": {
      "text/html": [
       "<div>\n",
       "<style scoped>\n",
       "    .dataframe tbody tr th:only-of-type {\n",
       "        vertical-align: middle;\n",
       "    }\n",
       "\n",
       "    .dataframe tbody tr th {\n",
       "        vertical-align: top;\n",
       "    }\n",
       "\n",
       "    .dataframe thead th {\n",
       "        text-align: right;\n",
       "    }\n",
       "</style>\n",
       "<table border=\"1\" class=\"dataframe\">\n",
       "  <thead>\n",
       "    <tr style=\"text-align: right;\">\n",
       "      <th></th>\n",
       "      <th>Event</th>\n",
       "      <th>P-Value (Alpha=0.05)</th>\n",
       "      <th>Significant (Alpha=0.05)</th>\n",
       "      <th>T-Statistic (Alpha=0.05)</th>\n",
       "      <th>P-Value (Alpha=0.01)</th>\n",
       "      <th>Significant (Alpha=0.01)</th>\n",
       "      <th>T-Statistic (Alpha=0.01)</th>\n",
       "    </tr>\n",
       "  </thead>\n",
       "  <tbody>\n",
       "    <tr>\n",
       "      <th>0</th>\n",
       "      <td>MainScreenAppear</td>\n",
       "      <td>0.202737</td>\n",
       "      <td>0.0</td>\n",
       "      <td>1.273803</td>\n",
       "      <td>Not applicable</td>\n",
       "      <td>Not applicable</td>\n",
       "      <td>Not applicable</td>\n",
       "    </tr>\n",
       "    <tr>\n",
       "      <th>1</th>\n",
       "      <td>MainScreenAppear</td>\n",
       "      <td>Not applicable</td>\n",
       "      <td>Not applicable</td>\n",
       "      <td>Not applicable</td>\n",
       "      <td>0.202737</td>\n",
       "      <td>0.0</td>\n",
       "      <td>1.273803</td>\n",
       "    </tr>\n",
       "    <tr>\n",
       "      <th>2</th>\n",
       "      <td>OffersScreenAppear</td>\n",
       "      <td>0.0</td>\n",
       "      <td>1.0</td>\n",
       "      <td>-9.671086</td>\n",
       "      <td>Not applicable</td>\n",
       "      <td>Not applicable</td>\n",
       "      <td>Not applicable</td>\n",
       "    </tr>\n",
       "    <tr>\n",
       "      <th>3</th>\n",
       "      <td>OffersScreenAppear</td>\n",
       "      <td>Not applicable</td>\n",
       "      <td>Not applicable</td>\n",
       "      <td>Not applicable</td>\n",
       "      <td>0.0</td>\n",
       "      <td>1.0</td>\n",
       "      <td>-9.671086</td>\n",
       "    </tr>\n",
       "    <tr>\n",
       "      <th>4</th>\n",
       "      <td>CartScreenAppear</td>\n",
       "      <td>0.0</td>\n",
       "      <td>1.0</td>\n",
       "      <td>-5.993178</td>\n",
       "      <td>Not applicable</td>\n",
       "      <td>Not applicable</td>\n",
       "      <td>Not applicable</td>\n",
       "    </tr>\n",
       "    <tr>\n",
       "      <th>5</th>\n",
       "      <td>CartScreenAppear</td>\n",
       "      <td>Not applicable</td>\n",
       "      <td>Not applicable</td>\n",
       "      <td>Not applicable</td>\n",
       "      <td>0.0</td>\n",
       "      <td>1.0</td>\n",
       "      <td>-5.993178</td>\n",
       "    </tr>\n",
       "    <tr>\n",
       "      <th>6</th>\n",
       "      <td>PaymentScreenSuccessful</td>\n",
       "      <td>0.0</td>\n",
       "      <td>1.0</td>\n",
       "      <td>-5.322979</td>\n",
       "      <td>Not applicable</td>\n",
       "      <td>Not applicable</td>\n",
       "      <td>Not applicable</td>\n",
       "    </tr>\n",
       "    <tr>\n",
       "      <th>7</th>\n",
       "      <td>PaymentScreenSuccessful</td>\n",
       "      <td>Not applicable</td>\n",
       "      <td>Not applicable</td>\n",
       "      <td>Not applicable</td>\n",
       "      <td>0.0</td>\n",
       "      <td>1.0</td>\n",
       "      <td>-5.322979</td>\n",
       "    </tr>\n",
       "    <tr>\n",
       "      <th>8</th>\n",
       "      <td>Tutorial</td>\n",
       "      <td>0.880832</td>\n",
       "      <td>0.0</td>\n",
       "      <td>-0.149972</td>\n",
       "      <td>Not applicable</td>\n",
       "      <td>Not applicable</td>\n",
       "      <td>Not applicable</td>\n",
       "    </tr>\n",
       "    <tr>\n",
       "      <th>9</th>\n",
       "      <td>Tutorial</td>\n",
       "      <td>Not applicable</td>\n",
       "      <td>Not applicable</td>\n",
       "      <td>Not applicable</td>\n",
       "      <td>0.880832</td>\n",
       "      <td>0.0</td>\n",
       "      <td>-0.149972</td>\n",
       "    </tr>\n",
       "  </tbody>\n",
       "</table>\n",
       "</div>"
      ],
      "text/plain": [
       "                     Event P-Value (Alpha=0.05) Significant (Alpha=0.05)  \\\n",
       "0         MainScreenAppear             0.202737                      0.0   \n",
       "1         MainScreenAppear       Not applicable           Not applicable   \n",
       "2       OffersScreenAppear                  0.0                      1.0   \n",
       "3       OffersScreenAppear       Not applicable           Not applicable   \n",
       "4         CartScreenAppear                  0.0                      1.0   \n",
       "5         CartScreenAppear       Not applicable           Not applicable   \n",
       "6  PaymentScreenSuccessful                  0.0                      1.0   \n",
       "7  PaymentScreenSuccessful       Not applicable           Not applicable   \n",
       "8                 Tutorial             0.880832                      0.0   \n",
       "9                 Tutorial       Not applicable           Not applicable   \n",
       "\n",
       "  T-Statistic (Alpha=0.05) P-Value (Alpha=0.01) Significant (Alpha=0.01)  \\\n",
       "0                 1.273803       Not applicable           Not applicable   \n",
       "1           Not applicable             0.202737                      0.0   \n",
       "2                -9.671086       Not applicable           Not applicable   \n",
       "3           Not applicable                  0.0                      1.0   \n",
       "4                -5.993178       Not applicable           Not applicable   \n",
       "5           Not applicable                  0.0                      1.0   \n",
       "6                -5.322979       Not applicable           Not applicable   \n",
       "7           Not applicable                  0.0                      1.0   \n",
       "8                -0.149972       Not applicable           Not applicable   \n",
       "9           Not applicable             0.880832                      0.0   \n",
       "\n",
       "  T-Statistic (Alpha=0.01)  \n",
       "0           Not applicable  \n",
       "1                 1.273803  \n",
       "2           Not applicable  \n",
       "3                -9.671086  \n",
       "4           Not applicable  \n",
       "5                -5.993178  \n",
       "6           Not applicable  \n",
       "7                -5.322979  \n",
       "8           Not applicable  \n",
       "9                -0.149972  "
      ]
     },
     "execution_count": 39,
     "metadata": {},
     "output_type": "execute_result"
    }
   ],
   "source": [
    "# Function to perform t-test and return results\n",
    "def perform_t_test(df, event_name, group1_id, group2_id, alpha):\n",
    "    group1_event = df[(df['experiment_id'] == group1_id) & (df['event_name'] == event_name)]['device_id']\n",
    "    group2_event = df[(df['experiment_id'] == group2_id) & (df['event_name'] == event_name)]['device_id']\n",
    "\n",
    "    t_statistic, p_value = ttest_ind(group1_event, group2_event, equal_var=False)\n",
    "\n",
    "    result = {\n",
    "        'Event': event_name,\n",
    "        f'T-Statistic (Alpha={alpha})': t_statistic,\n",
    "        f'P-Value (Alpha={alpha})': p_value,\n",
    "        f'Significant (Alpha={alpha})': p_value < alpha\n",
    "    }\n",
    "    return result\n",
    "\n",
    "# Get unique event names\n",
    "unique_events = df['event_name'].unique()\n",
    "\n",
    "# Create a DataFrame to store the results\n",
    "results_df = pd.DataFrame()\n",
    "\n",
    "# Compare altered fonts group (248) with each control group (246 and 247) for both significance levels\n",
    "for event in unique_events:\n",
    "    result_005 = perform_t_test(df, event, 246, 248, 0.05)\n",
    "    result_001 = perform_t_test(df, event, 246, 248, 0.01)\n",
    "\n",
    "    results_df = results_df.append(result_005, ignore_index=True)\n",
    "    results_df = results_df.append(result_001, ignore_index=True)\n",
    "\n",
    "# Fill NaN values with appropriate placeholders\n",
    "results_df = results_df.fillna('Not applicable')\n",
    "\n",
    "# Display the results DataFrame\n",
    "results_df\n"
   ]
  }
 ],
 "metadata": {
  "kernelspec": {
   "display_name": "Python 3 (ipykernel)",
   "language": "python",
   "name": "python3"
  },
  "language_info": {
   "codemirror_mode": {
    "name": "ipython",
    "version": 3
   },
   "file_extension": ".py",
   "mimetype": "text/x-python",
   "name": "python",
   "nbconvert_exporter": "python",
   "pygments_lexer": "ipython3",
   "version": "3.9.5"
  },
  "toc": {
   "base_numbering": 1,
   "nav_menu": {},
   "number_sections": true,
   "sideBar": true,
   "skip_h1_title": true,
   "title_cell": "Table of Contents",
   "title_sidebar": "Contents",
   "toc_cell": false,
   "toc_position": {},
   "toc_section_display": true,
   "toc_window_display": false
  }
 },
 "nbformat": 4,
 "nbformat_minor": 2
}
